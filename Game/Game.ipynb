{
 "cells": [
  {
   "cell_type": "code",
   "execution_count": 1,
   "metadata": {},
   "outputs": [],
   "source": [
    "import os.path\n",
    "from pathlib import Path\n",
    "import urllib.request\n",
    "import matplotlib.pyplot as plt\n",
    "import pandas as pd\n",
    "import seaborn as sns\n",
    "import math as mt\n",
    "import numpy as np\n",
    "from scipy import stats as st\n",
    "\n",
    "\n",
    "\n"
   ]
  },
  {
   "cell_type": "code",
   "execution_count": 3,
   "metadata": {},
   "outputs": [
    {
     "name": "stdout",
     "output_type": "stream",
     "text": [
      "game.csv файл найден\n"
     ]
    }
   ],
   "source": [
    "#создадим папку\n",
    "Path('datasets').mkdir(parents=True, exist_ok=True)\n",
    "\n",
    "#словарь с именем файла и сылкой на него\n",
    "urls = {\n",
    "    'gamt' : ('', 'game.csv'),\n",
    "\n",
    "}\n",
    "\n",
    "#проверим есть ли файл \n",
    "for dict1 in urls:\n",
    "    if not os.path.exists(urls.get(dict1)[1]):\n",
    "        print(urls.get(dict1)[1], 'файл не найден, будет загружен из интренета')\n",
    "        #качаем файл по ссылке\n",
    "        urllib.request.urlretrieve(*urls.get(dict1))\n",
    "    else:\n",
    "        print(urls.get(dict1)[1], 'файл найден')"
   ]
  },
  {
   "cell_type": "code",
   "execution_count": 4,
   "metadata": {},
   "outputs": [
    {
     "data": {
      "text/html": [
       "<div>\n",
       "<style scoped>\n",
       "    .dataframe tbody tr th:only-of-type {\n",
       "        vertical-align: middle;\n",
       "    }\n",
       "\n",
       "    .dataframe tbody tr th {\n",
       "        vertical-align: top;\n",
       "    }\n",
       "\n",
       "    .dataframe thead th {\n",
       "        text-align: right;\n",
       "    }\n",
       "</style>\n",
       "<table border=\"1\" class=\"dataframe\">\n",
       "  <thead>\n",
       "    <tr style=\"text-align: right;\">\n",
       "      <th></th>\n",
       "      <th>Name</th>\n",
       "      <th>Platform</th>\n",
       "      <th>Year_of_Release</th>\n",
       "      <th>Genre</th>\n",
       "      <th>NA_sales</th>\n",
       "      <th>EU_sales</th>\n",
       "      <th>JP_sales</th>\n",
       "      <th>Other_sales</th>\n",
       "      <th>Critic_Score</th>\n",
       "      <th>User_Score</th>\n",
       "      <th>Rating</th>\n",
       "    </tr>\n",
       "  </thead>\n",
       "  <tbody>\n",
       "    <tr>\n",
       "      <td>0</td>\n",
       "      <td>Wii Sports</td>\n",
       "      <td>Wii</td>\n",
       "      <td>2006.0</td>\n",
       "      <td>Sports</td>\n",
       "      <td>41.36</td>\n",
       "      <td>28.96</td>\n",
       "      <td>3.77</td>\n",
       "      <td>8.45</td>\n",
       "      <td>76.0</td>\n",
       "      <td>8</td>\n",
       "      <td>E</td>\n",
       "    </tr>\n",
       "    <tr>\n",
       "      <td>1</td>\n",
       "      <td>Super Mario Bros.</td>\n",
       "      <td>NES</td>\n",
       "      <td>1985.0</td>\n",
       "      <td>Platform</td>\n",
       "      <td>29.08</td>\n",
       "      <td>3.58</td>\n",
       "      <td>6.81</td>\n",
       "      <td>0.77</td>\n",
       "      <td>NaN</td>\n",
       "      <td>NaN</td>\n",
       "      <td>NaN</td>\n",
       "    </tr>\n",
       "    <tr>\n",
       "      <td>2</td>\n",
       "      <td>Mario Kart Wii</td>\n",
       "      <td>Wii</td>\n",
       "      <td>2008.0</td>\n",
       "      <td>Racing</td>\n",
       "      <td>15.68</td>\n",
       "      <td>12.76</td>\n",
       "      <td>3.79</td>\n",
       "      <td>3.29</td>\n",
       "      <td>82.0</td>\n",
       "      <td>8.3</td>\n",
       "      <td>E</td>\n",
       "    </tr>\n",
       "    <tr>\n",
       "      <td>3</td>\n",
       "      <td>Wii Sports Resort</td>\n",
       "      <td>Wii</td>\n",
       "      <td>2009.0</td>\n",
       "      <td>Sports</td>\n",
       "      <td>15.61</td>\n",
       "      <td>10.93</td>\n",
       "      <td>3.28</td>\n",
       "      <td>2.95</td>\n",
       "      <td>80.0</td>\n",
       "      <td>8</td>\n",
       "      <td>E</td>\n",
       "    </tr>\n",
       "    <tr>\n",
       "      <td>4</td>\n",
       "      <td>Pokemon Red/Pokemon Blue</td>\n",
       "      <td>GB</td>\n",
       "      <td>1996.0</td>\n",
       "      <td>Role-Playing</td>\n",
       "      <td>11.27</td>\n",
       "      <td>8.89</td>\n",
       "      <td>10.22</td>\n",
       "      <td>1.00</td>\n",
       "      <td>NaN</td>\n",
       "      <td>NaN</td>\n",
       "      <td>NaN</td>\n",
       "    </tr>\n",
       "    <tr>\n",
       "      <td>...</td>\n",
       "      <td>...</td>\n",
       "      <td>...</td>\n",
       "      <td>...</td>\n",
       "      <td>...</td>\n",
       "      <td>...</td>\n",
       "      <td>...</td>\n",
       "      <td>...</td>\n",
       "      <td>...</td>\n",
       "      <td>...</td>\n",
       "      <td>...</td>\n",
       "      <td>...</td>\n",
       "    </tr>\n",
       "    <tr>\n",
       "      <td>16710</td>\n",
       "      <td>Samurai Warriors: Sanada Maru</td>\n",
       "      <td>PS3</td>\n",
       "      <td>2016.0</td>\n",
       "      <td>Action</td>\n",
       "      <td>0.00</td>\n",
       "      <td>0.00</td>\n",
       "      <td>0.01</td>\n",
       "      <td>0.00</td>\n",
       "      <td>NaN</td>\n",
       "      <td>NaN</td>\n",
       "      <td>NaN</td>\n",
       "    </tr>\n",
       "    <tr>\n",
       "      <td>16711</td>\n",
       "      <td>LMA Manager 2007</td>\n",
       "      <td>X360</td>\n",
       "      <td>2006.0</td>\n",
       "      <td>Sports</td>\n",
       "      <td>0.00</td>\n",
       "      <td>0.01</td>\n",
       "      <td>0.00</td>\n",
       "      <td>0.00</td>\n",
       "      <td>NaN</td>\n",
       "      <td>NaN</td>\n",
       "      <td>NaN</td>\n",
       "    </tr>\n",
       "    <tr>\n",
       "      <td>16712</td>\n",
       "      <td>Haitaka no Psychedelica</td>\n",
       "      <td>PSV</td>\n",
       "      <td>2016.0</td>\n",
       "      <td>Adventure</td>\n",
       "      <td>0.00</td>\n",
       "      <td>0.00</td>\n",
       "      <td>0.01</td>\n",
       "      <td>0.00</td>\n",
       "      <td>NaN</td>\n",
       "      <td>NaN</td>\n",
       "      <td>NaN</td>\n",
       "    </tr>\n",
       "    <tr>\n",
       "      <td>16713</td>\n",
       "      <td>Spirits &amp; Spells</td>\n",
       "      <td>GBA</td>\n",
       "      <td>2003.0</td>\n",
       "      <td>Platform</td>\n",
       "      <td>0.01</td>\n",
       "      <td>0.00</td>\n",
       "      <td>0.00</td>\n",
       "      <td>0.00</td>\n",
       "      <td>NaN</td>\n",
       "      <td>NaN</td>\n",
       "      <td>NaN</td>\n",
       "    </tr>\n",
       "    <tr>\n",
       "      <td>16714</td>\n",
       "      <td>Winning Post 8 2016</td>\n",
       "      <td>PSV</td>\n",
       "      <td>2016.0</td>\n",
       "      <td>Simulation</td>\n",
       "      <td>0.00</td>\n",
       "      <td>0.00</td>\n",
       "      <td>0.01</td>\n",
       "      <td>0.00</td>\n",
       "      <td>NaN</td>\n",
       "      <td>NaN</td>\n",
       "      <td>NaN</td>\n",
       "    </tr>\n",
       "  </tbody>\n",
       "</table>\n",
       "<p>16715 rows × 11 columns</p>\n",
       "</div>"
      ],
      "text/plain": [
       "                                Name Platform  Year_of_Release         Genre  \\\n",
       "0                         Wii Sports      Wii           2006.0        Sports   \n",
       "1                  Super Mario Bros.      NES           1985.0      Platform   \n",
       "2                     Mario Kart Wii      Wii           2008.0        Racing   \n",
       "3                  Wii Sports Resort      Wii           2009.0        Sports   \n",
       "4           Pokemon Red/Pokemon Blue       GB           1996.0  Role-Playing   \n",
       "...                              ...      ...              ...           ...   \n",
       "16710  Samurai Warriors: Sanada Maru      PS3           2016.0        Action   \n",
       "16711               LMA Manager 2007     X360           2006.0        Sports   \n",
       "16712        Haitaka no Psychedelica      PSV           2016.0     Adventure   \n",
       "16713               Spirits & Spells      GBA           2003.0      Platform   \n",
       "16714            Winning Post 8 2016      PSV           2016.0    Simulation   \n",
       "\n",
       "       NA_sales  EU_sales  JP_sales  Other_sales  Critic_Score User_Score  \\\n",
       "0         41.36     28.96      3.77         8.45          76.0          8   \n",
       "1         29.08      3.58      6.81         0.77           NaN        NaN   \n",
       "2         15.68     12.76      3.79         3.29          82.0        8.3   \n",
       "3         15.61     10.93      3.28         2.95          80.0          8   \n",
       "4         11.27      8.89     10.22         1.00           NaN        NaN   \n",
       "...         ...       ...       ...          ...           ...        ...   \n",
       "16710      0.00      0.00      0.01         0.00           NaN        NaN   \n",
       "16711      0.00      0.01      0.00         0.00           NaN        NaN   \n",
       "16712      0.00      0.00      0.01         0.00           NaN        NaN   \n",
       "16713      0.01      0.00      0.00         0.00           NaN        NaN   \n",
       "16714      0.00      0.00      0.01         0.00           NaN        NaN   \n",
       "\n",
       "      Rating  \n",
       "0          E  \n",
       "1        NaN  \n",
       "2          E  \n",
       "3          E  \n",
       "4        NaN  \n",
       "...      ...  \n",
       "16710    NaN  \n",
       "16711    NaN  \n",
       "16712    NaN  \n",
       "16713    NaN  \n",
       "16714    NaN  \n",
       "\n",
       "[16715 rows x 11 columns]"
      ]
     },
     "execution_count": 4,
     "metadata": {},
     "output_type": "execute_result"
    }
   ],
   "source": [
    "df = pd.read_csv('')\n"
   ]
  },
  {
   "cell_type": "code",
   "execution_count": 5,
   "metadata": {},
   "outputs": [
    {
     "name": "stdout",
     "output_type": "stream",
     "text": [
      "<class 'pandas.core.frame.DataFrame'>\n",
      "RangeIndex: 16715 entries, 0 to 16714\n",
      "Data columns (total 11 columns):\n",
      "Name               16713 non-null object\n",
      "Platform           16715 non-null object\n",
      "Year_of_Release    16446 non-null float64\n",
      "Genre              16713 non-null object\n",
      "NA_sales           16715 non-null float64\n",
      "EU_sales           16715 non-null float64\n",
      "JP_sales           16715 non-null float64\n",
      "Other_sales        16715 non-null float64\n",
      "Critic_Score       8137 non-null float64\n",
      "User_Score         10014 non-null object\n",
      "Rating             9949 non-null object\n",
      "dtypes: float64(6), object(5)\n",
      "memory usage: 1.4+ MB\n"
     ]
    }
   ],
   "source": [
    "df.info()"
   ]
  },
  {
   "cell_type": "markdown",
   "metadata": {},
   "source": [
    "\n",
    "\n",
    "\n",
    "\n",
    "\n",
    "\n"
   ]
  },
  {
   "cell_type": "code",
   "execution_count": 6,
   "metadata": {},
   "outputs": [],
   "source": [
    "for name in df:\n",
    "    df.rename(columns={name: name.lower()}, inplace=True)\n"
   ]
  },
  {
   "cell_type": "code",
   "execution_count": 7,
   "metadata": {
    "scrolled": true
   },
   "outputs": [
    {
     "data": {
      "text/html": [
       "<div>\n",
       "<style scoped>\n",
       "    .dataframe tbody tr th:only-of-type {\n",
       "        vertical-align: middle;\n",
       "    }\n",
       "\n",
       "    .dataframe tbody tr th {\n",
       "        vertical-align: top;\n",
       "    }\n",
       "\n",
       "    .dataframe thead th {\n",
       "        text-align: right;\n",
       "    }\n",
       "</style>\n",
       "<table border=\"1\" class=\"dataframe\">\n",
       "  <thead>\n",
       "    <tr style=\"text-align: right;\">\n",
       "      <th></th>\n",
       "      <th>name</th>\n",
       "    </tr>\n",
       "    <tr>\n",
       "      <th>year_of_release</th>\n",
       "      <th></th>\n",
       "    </tr>\n",
       "  </thead>\n",
       "  <tbody>\n",
       "    <tr>\n",
       "      <td>1980.0</td>\n",
       "      <td>9</td>\n",
       "    </tr>\n",
       "    <tr>\n",
       "      <td>1981.0</td>\n",
       "      <td>46</td>\n",
       "    </tr>\n",
       "    <tr>\n",
       "      <td>1982.0</td>\n",
       "      <td>36</td>\n",
       "    </tr>\n",
       "    <tr>\n",
       "      <td>1983.0</td>\n",
       "      <td>17</td>\n",
       "    </tr>\n",
       "    <tr>\n",
       "      <td>1984.0</td>\n",
       "      <td>14</td>\n",
       "    </tr>\n",
       "    <tr>\n",
       "      <td>1985.0</td>\n",
       "      <td>14</td>\n",
       "    </tr>\n",
       "    <tr>\n",
       "      <td>1986.0</td>\n",
       "      <td>21</td>\n",
       "    </tr>\n",
       "    <tr>\n",
       "      <td>1987.0</td>\n",
       "      <td>16</td>\n",
       "    </tr>\n",
       "    <tr>\n",
       "      <td>1988.0</td>\n",
       "      <td>15</td>\n",
       "    </tr>\n",
       "    <tr>\n",
       "      <td>1989.0</td>\n",
       "      <td>17</td>\n",
       "    </tr>\n",
       "    <tr>\n",
       "      <td>1990.0</td>\n",
       "      <td>16</td>\n",
       "    </tr>\n",
       "    <tr>\n",
       "      <td>1991.0</td>\n",
       "      <td>41</td>\n",
       "    </tr>\n",
       "    <tr>\n",
       "      <td>1992.0</td>\n",
       "      <td>43</td>\n",
       "    </tr>\n",
       "    <tr>\n",
       "      <td>1993.0</td>\n",
       "      <td>60</td>\n",
       "    </tr>\n",
       "    <tr>\n",
       "      <td>1994.0</td>\n",
       "      <td>121</td>\n",
       "    </tr>\n",
       "    <tr>\n",
       "      <td>1995.0</td>\n",
       "      <td>219</td>\n",
       "    </tr>\n",
       "    <tr>\n",
       "      <td>1996.0</td>\n",
       "      <td>263</td>\n",
       "    </tr>\n",
       "    <tr>\n",
       "      <td>1997.0</td>\n",
       "      <td>289</td>\n",
       "    </tr>\n",
       "    <tr>\n",
       "      <td>1998.0</td>\n",
       "      <td>379</td>\n",
       "    </tr>\n",
       "    <tr>\n",
       "      <td>1999.0</td>\n",
       "      <td>338</td>\n",
       "    </tr>\n",
       "    <tr>\n",
       "      <td>2000.0</td>\n",
       "      <td>350</td>\n",
       "    </tr>\n",
       "    <tr>\n",
       "      <td>2001.0</td>\n",
       "      <td>482</td>\n",
       "    </tr>\n",
       "    <tr>\n",
       "      <td>2002.0</td>\n",
       "      <td>829</td>\n",
       "    </tr>\n",
       "    <tr>\n",
       "      <td>2003.0</td>\n",
       "      <td>775</td>\n",
       "    </tr>\n",
       "    <tr>\n",
       "      <td>2004.0</td>\n",
       "      <td>762</td>\n",
       "    </tr>\n",
       "    <tr>\n",
       "      <td>2005.0</td>\n",
       "      <td>939</td>\n",
       "    </tr>\n",
       "    <tr>\n",
       "      <td>2006.0</td>\n",
       "      <td>1006</td>\n",
       "    </tr>\n",
       "    <tr>\n",
       "      <td>2007.0</td>\n",
       "      <td>1197</td>\n",
       "    </tr>\n",
       "    <tr>\n",
       "      <td>2008.0</td>\n",
       "      <td>1427</td>\n",
       "    </tr>\n",
       "    <tr>\n",
       "      <td>2009.0</td>\n",
       "      <td>1426</td>\n",
       "    </tr>\n",
       "    <tr>\n",
       "      <td>2010.0</td>\n",
       "      <td>1255</td>\n",
       "    </tr>\n",
       "    <tr>\n",
       "      <td>2011.0</td>\n",
       "      <td>1136</td>\n",
       "    </tr>\n",
       "    <tr>\n",
       "      <td>2012.0</td>\n",
       "      <td>653</td>\n",
       "    </tr>\n",
       "    <tr>\n",
       "      <td>2013.0</td>\n",
       "      <td>544</td>\n",
       "    </tr>\n",
       "    <tr>\n",
       "      <td>2014.0</td>\n",
       "      <td>581</td>\n",
       "    </tr>\n",
       "    <tr>\n",
       "      <td>2015.0</td>\n",
       "      <td>606</td>\n",
       "    </tr>\n",
       "    <tr>\n",
       "      <td>2016.0</td>\n",
       "      <td>502</td>\n",
       "    </tr>\n",
       "  </tbody>\n",
       "</table>\n",
       "</div>"
      ],
      "text/plain": [
       "                 name\n",
       "year_of_release      \n",
       "1980.0              9\n",
       "1981.0             46\n",
       "1982.0             36\n",
       "1983.0             17\n",
       "1984.0             14\n",
       "1985.0             14\n",
       "1986.0             21\n",
       "1987.0             16\n",
       "1988.0             15\n",
       "1989.0             17\n",
       "1990.0             16\n",
       "1991.0             41\n",
       "1992.0             43\n",
       "1993.0             60\n",
       "1994.0            121\n",
       "1995.0            219\n",
       "1996.0            263\n",
       "1997.0            289\n",
       "1998.0            379\n",
       "1999.0            338\n",
       "2000.0            350\n",
       "2001.0            482\n",
       "2002.0            829\n",
       "2003.0            775\n",
       "2004.0            762\n",
       "2005.0            939\n",
       "2006.0           1006\n",
       "2007.0           1197\n",
       "2008.0           1427\n",
       "2009.0           1426\n",
       "2010.0           1255\n",
       "2011.0           1136\n",
       "2012.0            653\n",
       "2013.0            544\n",
       "2014.0            581\n",
       "2015.0            606\n",
       "2016.0            502"
      ]
     },
     "execution_count": 7,
     "metadata": {},
     "output_type": "execute_result"
    }
   ],
   "source": [
    "years_relese = df.pivot_table(index='year_of_release', values='name', aggfunc='count')\n",
    "years_relese"
   ]
  },
  {
   "cell_type": "code",
   "execution_count": 8,
   "metadata": {},
   "outputs": [
    {
     "data": {
      "image/png": "[encoded data removed]",
      "text/plain": [
       "<Figure size 864x504 with 1 Axes>"
      ]
     },
     "metadata": {
      "needs_background": "light"
     },
     "output_type": "display_data"
    }
   ],
   "source": [
    "years_relese.plot(kind='bar', xticks=years_relese.index, figsize=(12,7), grid=True)\n",
    "plt.show()\n",
    "\n"
   ]
  },
  {
   "cell_type": "code",
   "execution_count": 9,
   "metadata": {},
   "outputs": [],
   "source": [
    "df = df.query('year_of_release > 2001').reset_index(drop=True)"
   ]
  },
  {
   "cell_type": "code",
   "execution_count": 10,
   "metadata": {},
   "outputs": [],
   "source": [
    "genre = df['genre'].unique()"
   ]
  },
  {
   "cell_type": "code",
   "execution_count": 11,
   "metadata": {},
   "outputs": [],
   "source": [
    "dict_of_rating = {}\n",
    "\n",
    "def rating_q(df):\n",
    "    \n",
    "    for rate in genre:\n",
    "        \n",
    "        rate1 = df.query('genre == @rate')\n",
    "        \n",
    "        c = ''\n",
    "        \n",
    "        for i in rate1['rating']:\n",
    "            \n",
    "            if i != i:\n",
    "                continue\n",
    "            else:\n",
    "                c = i\n",
    "                break\n",
    "        \n",
    "        for rate2 in rate1['rating']:\n",
    "            dict_of_rating.setdefault(rate,c)\n",
    "            break\n",
    "        "
   ]
  },
  {
   "cell_type": "code",
   "execution_count": 12,
   "metadata": {},
   "outputs": [
    {
     "data": {
      "text/plain": [
       "{'Sports': 'E',\n",
       " 'Racing': 'E',\n",
       " 'Platform': 'E',\n",
       " 'Misc': 'E',\n",
       " 'Simulation': 'E',\n",
       " 'Action': 'M',\n",
       " 'Role-Playing': 'M',\n",
       " 'Puzzle': 'E',\n",
       " 'Shooter': 'M',\n",
       " 'Fighting': 'T',\n",
       " 'Adventure': 'M',\n",
       " 'Strategy': 'T'}"
      ]
     },
     "execution_count": 12,
     "metadata": {},
     "output_type": "execute_result"
    }
   ],
   "source": [
    "rating_q(df)\n",
    "dict_of_rating"
   ]
  },
  {
   "cell_type": "code",
   "execution_count": 13,
   "metadata": {},
   "outputs": [],
   "source": [
    "def rating_remover(row):\n",
    "    \n",
    "    rating = row['rating']\n",
    "    genre = row['genre']\n",
    "    \n",
    "    if rating != rating:\n",
    "        \n",
    "        return dict_of_rating[genre]\n",
    "    return rating\n",
    "\n",
    "def tbd(row):\n",
    "    \n",
    "    user_score = row['user_score']\n",
    "    \n",
    "    if user_score == \"tbd\":\n",
    "        \n",
    "        return -1\n",
    "    return user_score\n",
    "\n",
    "def all_sales(row):\n",
    "    \n",
    "    na_sales = row['na_sales']\n",
    "    eu_sales = row['eu_sales']\n",
    "    other_sales = row['other_sales']\n",
    "    jp_sales = row['jp_sales']\n",
    "    \n",
    "    return na_sales + eu_sales + other_sales + jp_sales\n",
    "    \n",
    "    \n"
   ]
  },
  {
   "cell_type": "code",
   "execution_count": 14,
   "metadata": {},
   "outputs": [],
   "source": [
    "df['rating'] = df.apply(rating_remover, axis=1)\n",
    "df['user_score'] = df.apply(tbd, axis=1)\n",
    "df['all_sales'] = df.apply(all_sales, axis=1)\n",
    "df['year_of_release'] = df['year_of_release'].astype(\"int64\")\n",
    "df['user_score'] = df['user_score'].astype(\"float\")\n",
    "\n"
   ]
  },
  {
   "cell_type": "code",
   "execution_count": 15,
   "metadata": {},
   "outputs": [
    {
     "name": "stdout",
     "output_type": "stream",
     "text": [
      "<class 'pandas.core.frame.DataFrame'>\n",
      "RangeIndex: 13638 entries, 0 to 13637\n",
      "Data columns (total 12 columns):\n",
      "name               13638 non-null object\n",
      "platform           13638 non-null object\n",
      "year_of_release    13638 non-null int64\n",
      "genre              13638 non-null object\n",
      "na_sales           13638 non-null float64\n",
      "eu_sales           13638 non-null float64\n",
      "jp_sales           13638 non-null float64\n",
      "other_sales        13638 non-null float64\n",
      "critic_score       7418 non-null float64\n",
      "user_score         9249 non-null float64\n",
      "rating             13638 non-null object\n",
      "all_sales          13638 non-null float64\n",
      "dtypes: float64(7), int64(1), object(4)\n",
      "memory usage: 1.2+ MB\n"
     ]
    }
   ],
   "source": [
    "df.info()"
   ]
  },
  {
   "cell_type": "code",
   "execution_count": 16,
   "metadata": {},
   "outputs": [
    {
     "data": {
      "text/html": [
       "<div>\n",
       "<style scoped>\n",
       "    .dataframe tbody tr th:only-of-type {\n",
       "        vertical-align: middle;\n",
       "    }\n",
       "\n",
       "    .dataframe tbody tr th {\n",
       "        vertical-align: top;\n",
       "    }\n",
       "\n",
       "    .dataframe thead th {\n",
       "        text-align: right;\n",
       "    }\n",
       "</style>\n",
       "<table border=\"1\" class=\"dataframe\">\n",
       "  <thead>\n",
       "    <tr style=\"text-align: right;\">\n",
       "      <th></th>\n",
       "      <th>name</th>\n",
       "      <th>platform</th>\n",
       "      <th>year_of_release</th>\n",
       "      <th>genre</th>\n",
       "      <th>na_sales</th>\n",
       "      <th>eu_sales</th>\n",
       "      <th>jp_sales</th>\n",
       "      <th>other_sales</th>\n",
       "      <th>critic_score</th>\n",
       "      <th>user_score</th>\n",
       "      <th>rating</th>\n",
       "      <th>all_sales</th>\n",
       "    </tr>\n",
       "  </thead>\n",
       "  <tbody>\n",
       "    <tr>\n",
       "      <td>0</td>\n",
       "      <td>Wii Sports</td>\n",
       "      <td>Wii</td>\n",
       "      <td>2006</td>\n",
       "      <td>Sports</td>\n",
       "      <td>41.36</td>\n",
       "      <td>28.96</td>\n",
       "      <td>3.77</td>\n",
       "      <td>8.45</td>\n",
       "      <td>76.0</td>\n",
       "      <td>8.0</td>\n",
       "      <td>E</td>\n",
       "      <td>82.54</td>\n",
       "    </tr>\n",
       "    <tr>\n",
       "      <td>1</td>\n",
       "      <td>Mario Kart Wii</td>\n",
       "      <td>Wii</td>\n",
       "      <td>2008</td>\n",
       "      <td>Racing</td>\n",
       "      <td>15.68</td>\n",
       "      <td>12.76</td>\n",
       "      <td>3.79</td>\n",
       "      <td>3.29</td>\n",
       "      <td>82.0</td>\n",
       "      <td>8.3</td>\n",
       "      <td>E</td>\n",
       "      <td>35.52</td>\n",
       "    </tr>\n",
       "    <tr>\n",
       "      <td>2</td>\n",
       "      <td>Wii Sports Resort</td>\n",
       "      <td>Wii</td>\n",
       "      <td>2009</td>\n",
       "      <td>Sports</td>\n",
       "      <td>15.61</td>\n",
       "      <td>10.93</td>\n",
       "      <td>3.28</td>\n",
       "      <td>2.95</td>\n",
       "      <td>80.0</td>\n",
       "      <td>8.0</td>\n",
       "      <td>E</td>\n",
       "      <td>32.77</td>\n",
       "    </tr>\n",
       "    <tr>\n",
       "      <td>3</td>\n",
       "      <td>New Super Mario Bros.</td>\n",
       "      <td>DS</td>\n",
       "      <td>2006</td>\n",
       "      <td>Platform</td>\n",
       "      <td>11.28</td>\n",
       "      <td>9.14</td>\n",
       "      <td>6.50</td>\n",
       "      <td>2.88</td>\n",
       "      <td>89.0</td>\n",
       "      <td>8.5</td>\n",
       "      <td>E</td>\n",
       "      <td>29.80</td>\n",
       "    </tr>\n",
       "    <tr>\n",
       "      <td>4</td>\n",
       "      <td>Wii Play</td>\n",
       "      <td>Wii</td>\n",
       "      <td>2006</td>\n",
       "      <td>Misc</td>\n",
       "      <td>13.96</td>\n",
       "      <td>9.18</td>\n",
       "      <td>2.93</td>\n",
       "      <td>2.84</td>\n",
       "      <td>58.0</td>\n",
       "      <td>6.6</td>\n",
       "      <td>E</td>\n",
       "      <td>28.91</td>\n",
       "    </tr>\n",
       "    <tr>\n",
       "      <td>...</td>\n",
       "      <td>...</td>\n",
       "      <td>...</td>\n",
       "      <td>...</td>\n",
       "      <td>...</td>\n",
       "      <td>...</td>\n",
       "      <td>...</td>\n",
       "      <td>...</td>\n",
       "      <td>...</td>\n",
       "      <td>...</td>\n",
       "      <td>...</td>\n",
       "      <td>...</td>\n",
       "      <td>...</td>\n",
       "    </tr>\n",
       "    <tr>\n",
       "      <td>13633</td>\n",
       "      <td>Samurai Warriors: Sanada Maru</td>\n",
       "      <td>PS3</td>\n",
       "      <td>2016</td>\n",
       "      <td>Action</td>\n",
       "      <td>0.00</td>\n",
       "      <td>0.00</td>\n",
       "      <td>0.01</td>\n",
       "      <td>0.00</td>\n",
       "      <td>NaN</td>\n",
       "      <td>NaN</td>\n",
       "      <td>M</td>\n",
       "      <td>0.01</td>\n",
       "    </tr>\n",
       "    <tr>\n",
       "      <td>13634</td>\n",
       "      <td>LMA Manager 2007</td>\n",
       "      <td>X360</td>\n",
       "      <td>2006</td>\n",
       "      <td>Sports</td>\n",
       "      <td>0.00</td>\n",
       "      <td>0.01</td>\n",
       "      <td>0.00</td>\n",
       "      <td>0.00</td>\n",
       "      <td>NaN</td>\n",
       "      <td>NaN</td>\n",
       "      <td>E</td>\n",
       "      <td>0.01</td>\n",
       "    </tr>\n",
       "    <tr>\n",
       "      <td>13635</td>\n",
       "      <td>Haitaka no Psychedelica</td>\n",
       "      <td>PSV</td>\n",
       "      <td>2016</td>\n",
       "      <td>Adventure</td>\n",
       "      <td>0.00</td>\n",
       "      <td>0.00</td>\n",
       "      <td>0.01</td>\n",
       "      <td>0.00</td>\n",
       "      <td>NaN</td>\n",
       "      <td>NaN</td>\n",
       "      <td>M</td>\n",
       "      <td>0.01</td>\n",
       "    </tr>\n",
       "    <tr>\n",
       "      <td>13636</td>\n",
       "      <td>Spirits &amp; Spells</td>\n",
       "      <td>GBA</td>\n",
       "      <td>2003</td>\n",
       "      <td>Platform</td>\n",
       "      <td>0.01</td>\n",
       "      <td>0.00</td>\n",
       "      <td>0.00</td>\n",
       "      <td>0.00</td>\n",
       "      <td>NaN</td>\n",
       "      <td>NaN</td>\n",
       "      <td>E</td>\n",
       "      <td>0.01</td>\n",
       "    </tr>\n",
       "    <tr>\n",
       "      <td>13637</td>\n",
       "      <td>Winning Post 8 2016</td>\n",
       "      <td>PSV</td>\n",
       "      <td>2016</td>\n",
       "      <td>Simulation</td>\n",
       "      <td>0.00</td>\n",
       "      <td>0.00</td>\n",
       "      <td>0.01</td>\n",
       "      <td>0.00</td>\n",
       "      <td>NaN</td>\n",
       "      <td>NaN</td>\n",
       "      <td>E</td>\n",
       "      <td>0.01</td>\n",
       "    </tr>\n",
       "  </tbody>\n",
       "</table>\n",
       "<p>13638 rows × 12 columns</p>\n",
       "</div>"
      ],
      "text/plain": [
       "                                name platform  year_of_release       genre  \\\n",
       "0                         Wii Sports      Wii             2006      Sports   \n",
       "1                     Mario Kart Wii      Wii             2008      Racing   \n",
       "2                  Wii Sports Resort      Wii             2009      Sports   \n",
       "3              New Super Mario Bros.       DS             2006    Platform   \n",
       "4                           Wii Play      Wii             2006        Misc   \n",
       "...                              ...      ...              ...         ...   \n",
       "13633  Samurai Warriors: Sanada Maru      PS3             2016      Action   \n",
       "13634               LMA Manager 2007     X360             2006      Sports   \n",
       "13635        Haitaka no Psychedelica      PSV             2016   Adventure   \n",
       "13636               Spirits & Spells      GBA             2003    Platform   \n",
       "13637            Winning Post 8 2016      PSV             2016  Simulation   \n",
       "\n",
       "       na_sales  eu_sales  jp_sales  other_sales  critic_score  user_score  \\\n",
       "0         41.36     28.96      3.77         8.45          76.0         8.0   \n",
       "1         15.68     12.76      3.79         3.29          82.0         8.3   \n",
       "2         15.61     10.93      3.28         2.95          80.0         8.0   \n",
       "3         11.28      9.14      6.50         2.88          89.0         8.5   \n",
       "4         13.96      9.18      2.93         2.84          58.0         6.6   \n",
       "...         ...       ...       ...          ...           ...         ...   \n",
       "13633      0.00      0.00      0.01         0.00           NaN         NaN   \n",
       "13634      0.00      0.01      0.00         0.00           NaN         NaN   \n",
       "13635      0.00      0.00      0.01         0.00           NaN         NaN   \n",
       "13636      0.01      0.00      0.00         0.00           NaN         NaN   \n",
       "13637      0.00      0.00      0.01         0.00           NaN         NaN   \n",
       "\n",
       "      rating  all_sales  \n",
       "0          E      82.54  \n",
       "1          E      35.52  \n",
       "2          E      32.77  \n",
       "3          E      29.80  \n",
       "4          E      28.91  \n",
       "...      ...        ...  \n",
       "13633      M       0.01  \n",
       "13634      E       0.01  \n",
       "13635      M       0.01  \n",
       "13636      E       0.01  \n",
       "13637      E       0.01  \n",
       "\n",
       "[13638 rows x 12 columns]"
      ]
     },
     "execution_count": 16,
     "metadata": {},
     "output_type": "execute_result"
    }
   ],
   "source": []
  },
  {
   "cell_type": "markdown",
   "metadata": {},
   "source": [
    " <h3>Вывод по 2 шагу</h3>\n"
   ]
  },
  {
   "cell_type": "markdown",
   "metadata": {},
   "source": [
    "В результате было:\n",
    "<li>Заменены названия столбцов</li>\n",
    "<li>Преобразованны данные в нужные типы</li>\n",
    "<li>Обработаны пропуски</li>\n",
    "<li>Посчитанны суммарные продажи во всех регионах</li>\n",
    "\n",
    "\n",
    "В было обнаруженно, что столбец \"year_of_release\" имеет тип float он был замене на int<br>\n",
    "Пропуски в столбце \"rating\" были заменены следуйщим образом:<br>была написанна фунция, которая групирует исходную таблицу по жанрам и находит самый часто всречающийся рейтинг ESRB для данной категории<br>\n",
    "Аббревиатура 'tbd'была замена на -1 для удобсва использования данных<br>\n",
    "Пропуски в столбцах \"critic_score\" и \"user_score\" не были заменены, потому что их нельзя заменить по какому-то приципу<br><br>\n",
    "\n",
    "Для удобсва был взяты игры вышедшие после 2001, так нас не интресуют игры более поздних готов, потому что платформы для их запуска сильно не актуальны\n",
    "\n"
   ]
  },
  {
   "cell_type": "markdown",
   "metadata": {},
   "source": [
    "<h1>Шаг 3. Проведите исследовательский анализ данных</h1>"
   ]
  },
  {
   "cell_type": "code",
   "execution_count": 17,
   "metadata": {},
   "outputs": [],
   "source": [
    "platform = df['platform'].unique()"
   ]
  },
  {
   "cell_type": "code",
   "execution_count": 18,
   "metadata": {},
   "outputs": [
    {
     "data": {
      "image/png": "[encoded data removed]",
      "text/plain": [
       "<Figure size 504x360 with 1 Axes>"
      ]
     },
     "metadata": {
      "needs_background": "light"
     },
     "output_type": "display_data"
    },
    {
     "data": {
      "image/png": "[encoded data removed]",
      "text/plain": [
       "<Figure size 504x360 with 1 Axes>"
      ]
     },
     "metadata": {
      "needs_background": "light"
     },
     "output_type": "display_data"
    },
    {
     "data": {
      "image/png": "[encoded data removed]",
      "text/plain": [
       "<Figure size 504x360 with 1 Axes>"
      ]
     },
     "metadata": {
      "needs_background": "light"
     },
     "output_type": "display_data"
    },
    {
     "data": {
      "image/png": "[encoded data removed]",
      "text/plain": [
       "<Figure size 504x360 with 1 Axes>"
      ]
     },
     "metadata": {
      "needs_background": "light"
     },
     "output_type": "display_data"
    },
    {
     "data": {
      "image/png": "[encoded data removed]",
      "text/plain": [
       "<Figure size 504x360 with 1 Axes>"
      ]
     },
     "metadata": {
      "needs_background": "light"
     },
     "output_type": "display_data"
    },
    {
     "data": {
      "image/png": "[encoded data removed]",
      "text/plain": [
       "<Figure size 504x360 with 1 Axes>"
      ]
     },
     "metadata": {
      "needs_background": "light"
     },
     "output_type": "display_data"
    },
    {
     "data": {
      "image/png": "[encoded data removed]",
      "text/plain": [
       "<Figure size 504x360 with 1 Axes>"
      ]
     },
     "metadata": {
      "needs_background": "light"
     },
     "output_type": "display_data"
    },
    {
     "data": {
      "image/png": "[encoded data removed]",
      "text/plain": [
       "<Figure size 504x360 with 1 Axes>"
      ]
     },
     "metadata": {
      "needs_background": "light"
     },
     "output_type": "display_data"
    },
    {
     "data": {
      "image/png": "[encoded data removed]",
      "text/plain": [
       "<Figure size 504x360 with 1 Axes>"
      ]
     },
     "metadata": {
      "needs_background": "light"
     },
     "output_type": "display_data"
    },
    {
     "data": {
      "image/png": "[encoded data removed]",
      "text/plain": [
       "<Figure size 504x360 with 1 Axes>"
      ]
     },
     "metadata": {
      "needs_background": "light"
     },
     "output_type": "display_data"
    },
    {
     "data": {
      "image/png": "[encoded data removed]",
      "text/plain": [
       "<Figure size 504x360 with 1 Axes>"
      ]
     },
     "metadata": {
      "needs_background": "light"
     },
     "output_type": "display_data"
    },
    {
     "data": {
      "image/png": "[encoded data removed]",
      "text/plain": [
       "<Figure size 504x360 with 1 Axes>"
      ]
     },
     "metadata": {
      "needs_background": "light"
     },
     "output_type": "display_data"
    },
    {
     "data": {
      "image/png": "[encoded data removed]",
      "text/plain": [
       "<Figure size 504x360 with 1 Axes>"
      ]
     },
     "metadata": {
      "needs_background": "light"
     },
     "output_type": "display_data"
    },
    {
     "data": {
      "image/png": "[encoded data removed]",
      "text/plain": [
       "<Figure size 504x360 with 1 Axes>"
      ]
     },
     "metadata": {
      "needs_background": "light"
     },
     "output_type": "display_data"
    },
    {
     "data": {
      "image/png": "[encoded data removed]",
      "text/plain": [
       "<Figure size 504x360 with 1 Axes>"
      ]
     },
     "metadata": {
      "needs_background": "light"
     },
     "output_type": "display_data"
    },
    {
     "data": {
      "image/png": "[encoded data removed]",
      "text/plain": [
       "<Figure size 504x360 with 1 Axes>"
      ]
     },
     "metadata": {
      "needs_background": "light"
     },
     "output_type": "display_data"
    },
    {
     "data": {
      "image/png": "[encoded data removed]",
      "text/plain": [
       "<Figure size 504x360 with 1 Axes>"
      ]
     },
     "metadata": {
      "needs_background": "light"
     },
     "output_type": "display_data"
    },
    {
     "data": {
      "image/png": "[encoded data removed]",
      "text/plain": [
       "<Figure size 504x360 with 1 Axes>"
      ]
     },
     "metadata": {
      "needs_background": "light"
     },
     "output_type": "display_data"
    }
   ],
   "source": [
    "for platform_name in platform:\n",
    "    \n",
    "    x = df.query('platform == @platform_name')\n",
    "    years_relese_platform = x.pivot_table(index='year_of_release', values='name', aggfunc='count')\n",
    "    years_relese_platform.plot(kind='bar', xticks=years_relese.index, figsize=(7,5), grid=True)\n",
    "    plt.title(platform_name)\n",
    "    plt.ylabel('categories')\n",
    "    plt.xlabel('year')\n",
    "    plt.show()\n",
    "    "
   ]
  },
  {
   "cell_type": "markdown",
   "metadata": {},
   "source": [
    "В результате для платформ быдо обнаруженно: <br>\n",
    "<li>Wii утратила свою популярноть после 2009(более 300 игр). К 2016 году ее игр потчи равны 0</li>\n",
    "<li>DS перестала быть попуряной после 2009(почти 500 игр). В 2014 0 игр </li>\n",
    "<li>X360 перестала быть попуряной после 2013(75 игр). К 2016 около 15 игр</li>\n",
    "<li>PS3 все еще актуальна, но кол-во игр начало падать посде 2013</li>\n",
    "<li>PS2 не актальная платформа</li>\n",
    "<li>GBA не актальная платформа</li>\n",
    "<li>PS4 попульрная платформа кол-во игр растет с 2013</li>\n",
    "<li>3DS актуальная платформа с 2012-2015 примерно одинаковое кол-во игр. В 2016 резкое падение по кол-ву игр в 2 раза меньше</li>\n",
    "<li>XB не актальная платформа</li>\n",
    "<li>PC актуальная платформа</li>\n",
    "<li>PSP не актуальная платформа</li>\n",
    "<li>XOne попульрная платформа кол-во игр растет с 2013</li>\n",
    "<li>WiiU актуальная платформа но кол-во игр в 2016 по сравнению с 2015 упало в 2</li>\n",
    "<li>GC не актальная платформа</li>\n",
    "<li>PS не актальная платформа</li>\n",
    "<li>PSV актальная платформа</li>\n",
    "<li>N64 не актальная платформа</li><br>"
   ]
  },
  {
   "cell_type": "code",
   "execution_count": 19,
   "metadata": {},
   "outputs": [],
   "source": [
    "l = []\n",
    "l1 = []\n",
    "dict2 = {} \n",
    "\n",
    "for platform_name1 in platform:\n",
    "    \n",
    "    x = df.query('platform == @platform_name1')\n",
    "    years_relese_platform1 = x.pivot_table(index='year_of_release', values='name', aggfunc='count')\n",
    "    l.append(platform_name1)\n",
    "    l1.append(years_relese_platform1['name'].sum())\n",
    "    dict2.setdefault(platform_name1, years_relese_platform1['name'].sum())"
   ]
  },
  {
   "cell_type": "code",
   "execution_count": 20,
   "metadata": {},
   "outputs": [
    {
     "data": {
      "text/html": [
       "<div>\n",
       "<style scoped>\n",
       "    .dataframe tbody tr th:only-of-type {\n",
       "        vertical-align: middle;\n",
       "    }\n",
       "\n",
       "    .dataframe tbody tr th {\n",
       "        vertical-align: top;\n",
       "    }\n",
       "\n",
       "    .dataframe thead th {\n",
       "        text-align: right;\n",
       "    }\n",
       "</style>\n",
       "<table border=\"1\" class=\"dataframe\">\n",
       "  <thead>\n",
       "    <tr style=\"text-align: right;\">\n",
       "      <th></th>\n",
       "      <th>count</th>\n",
       "    </tr>\n",
       "    <tr>\n",
       "      <th>values</th>\n",
       "      <th></th>\n",
       "    </tr>\n",
       "  </thead>\n",
       "  <tbody>\n",
       "    <tr>\n",
       "      <td>N64</td>\n",
       "      <td>1</td>\n",
       "    </tr>\n",
       "    <tr>\n",
       "      <td>DC</td>\n",
       "      <td>3</td>\n",
       "    </tr>\n",
       "    <tr>\n",
       "      <td>PS</td>\n",
       "      <td>23</td>\n",
       "    </tr>\n",
       "    <tr>\n",
       "      <td>WiiU</td>\n",
       "      <td>147</td>\n",
       "    </tr>\n",
       "    <tr>\n",
       "      <td>XOne</td>\n",
       "      <td>247</td>\n",
       "    </tr>\n",
       "    <tr>\n",
       "      <td>PS4</td>\n",
       "      <td>392</td>\n",
       "    </tr>\n",
       "    <tr>\n",
       "      <td>PSV</td>\n",
       "      <td>429</td>\n",
       "    </tr>\n",
       "    <tr>\n",
       "      <td>3DS</td>\n",
       "      <td>512</td>\n",
       "    </tr>\n",
       "    <tr>\n",
       "      <td>GC</td>\n",
       "      <td>520</td>\n",
       "    </tr>\n",
       "    <tr>\n",
       "      <td>GBA</td>\n",
       "      <td>703</td>\n",
       "    </tr>\n",
       "    <tr>\n",
       "      <td>XB</td>\n",
       "      <td>769</td>\n",
       "    </tr>\n",
       "    <tr>\n",
       "      <td>PC</td>\n",
       "      <td>895</td>\n",
       "    </tr>\n",
       "    <tr>\n",
       "      <td>PSP</td>\n",
       "      <td>1193</td>\n",
       "    </tr>\n",
       "    <tr>\n",
       "      <td>X360</td>\n",
       "      <td>1232</td>\n",
       "    </tr>\n",
       "    <tr>\n",
       "      <td>Wii</td>\n",
       "      <td>1286</td>\n",
       "    </tr>\n",
       "    <tr>\n",
       "      <td>PS3</td>\n",
       "      <td>1306</td>\n",
       "    </tr>\n",
       "    <tr>\n",
       "      <td>PS2</td>\n",
       "      <td>1860</td>\n",
       "    </tr>\n",
       "    <tr>\n",
       "      <td>DS</td>\n",
       "      <td>2120</td>\n",
       "    </tr>\n",
       "  </tbody>\n",
       "</table>\n",
       "</div>"
      ],
      "text/plain": [
       "        count\n",
       "values       \n",
       "N64         1\n",
       "DC          3\n",
       "PS         23\n",
       "WiiU      147\n",
       "XOne      247\n",
       "PS4       392\n",
       "PSV       429\n",
       "3DS       512\n",
       "GC        520\n",
       "GBA       703\n",
       "XB        769\n",
       "PC        895\n",
       "PSP      1193\n",
       "X360     1232\n",
       "Wii      1286\n",
       "PS3      1306\n",
       "PS2      1860\n",
       "DS       2120"
      ]
     },
     "execution_count": 20,
     "metadata": {},
     "output_type": "execute_result"
    }
   ],
   "source": [
    "indexes = {'values' : l}\n",
    "years_table = pd.DataFrame(indexes).set_index('values')\n",
    "\n",
    "\n",
    "for dict2_name in dict2:\n",
    "    \n",
    "    years_table.loc[dict2_name, 'count'] = dict2[dict2_name]\n",
    "    \n",
    "years_table['count'] = years_table['count'].astype('int64')\n",
    "years_table.sort_values(by='count')   \n"
   ]
  },
  {
   "cell_type": "code",
   "execution_count": 21,
   "metadata": {},
   "outputs": [
    {
     "data": {
      "text/html": [
       "<div>\n",
       "<style scoped>\n",
       "    .dataframe tbody tr th:only-of-type {\n",
       "        vertical-align: middle;\n",
       "    }\n",
       "\n",
       "    .dataframe tbody tr th {\n",
       "        vertical-align: top;\n",
       "    }\n",
       "\n",
       "    .dataframe thead th {\n",
       "        text-align: right;\n",
       "    }\n",
       "</style>\n",
       "<table border=\"1\" class=\"dataframe\">\n",
       "  <thead>\n",
       "    <tr style=\"text-align: right;\">\n",
       "      <th></th>\n",
       "      <th></th>\n",
       "      <th>name</th>\n",
       "    </tr>\n",
       "    <tr>\n",
       "      <th>year_of_release</th>\n",
       "      <th>platform</th>\n",
       "      <th></th>\n",
       "    </tr>\n",
       "  </thead>\n",
       "  <tbody>\n",
       "    <tr>\n",
       "      <td rowspan=\"10\" valign=\"top\">2014</td>\n",
       "      <td>3DS</td>\n",
       "      <td>80</td>\n",
       "    </tr>\n",
       "    <tr>\n",
       "      <td>PC</td>\n",
       "      <td>47</td>\n",
       "    </tr>\n",
       "    <tr>\n",
       "      <td>PS3</td>\n",
       "      <td>108</td>\n",
       "    </tr>\n",
       "    <tr>\n",
       "      <td>PS4</td>\n",
       "      <td>75</td>\n",
       "    </tr>\n",
       "    <tr>\n",
       "      <td>PSP</td>\n",
       "      <td>10</td>\n",
       "    </tr>\n",
       "    <tr>\n",
       "      <td>PSV</td>\n",
       "      <td>100</td>\n",
       "    </tr>\n",
       "    <tr>\n",
       "      <td>Wii</td>\n",
       "      <td>6</td>\n",
       "    </tr>\n",
       "    <tr>\n",
       "      <td>WiiU</td>\n",
       "      <td>31</td>\n",
       "    </tr>\n",
       "    <tr>\n",
       "      <td>X360</td>\n",
       "      <td>63</td>\n",
       "    </tr>\n",
       "    <tr>\n",
       "      <td>XOne</td>\n",
       "      <td>61</td>\n",
       "    </tr>\n",
       "    <tr>\n",
       "      <td rowspan=\"10\" valign=\"top\">2015</td>\n",
       "      <td>3DS</td>\n",
       "      <td>86</td>\n",
       "    </tr>\n",
       "    <tr>\n",
       "      <td>PC</td>\n",
       "      <td>50</td>\n",
       "    </tr>\n",
       "    <tr>\n",
       "      <td>PS3</td>\n",
       "      <td>73</td>\n",
       "    </tr>\n",
       "    <tr>\n",
       "      <td>PS4</td>\n",
       "      <td>137</td>\n",
       "    </tr>\n",
       "    <tr>\n",
       "      <td>PSP</td>\n",
       "      <td>3</td>\n",
       "    </tr>\n",
       "    <tr>\n",
       "      <td>PSV</td>\n",
       "      <td>110</td>\n",
       "    </tr>\n",
       "    <tr>\n",
       "      <td>Wii</td>\n",
       "      <td>4</td>\n",
       "    </tr>\n",
       "    <tr>\n",
       "      <td>WiiU</td>\n",
       "      <td>28</td>\n",
       "    </tr>\n",
       "    <tr>\n",
       "      <td>X360</td>\n",
       "      <td>35</td>\n",
       "    </tr>\n",
       "    <tr>\n",
       "      <td>XOne</td>\n",
       "      <td>80</td>\n",
       "    </tr>\n",
       "    <tr>\n",
       "      <td rowspan=\"9\" valign=\"top\">2016</td>\n",
       "      <td>3DS</td>\n",
       "      <td>46</td>\n",
       "    </tr>\n",
       "    <tr>\n",
       "      <td>PC</td>\n",
       "      <td>54</td>\n",
       "    </tr>\n",
       "    <tr>\n",
       "      <td>PS3</td>\n",
       "      <td>38</td>\n",
       "    </tr>\n",
       "    <tr>\n",
       "      <td>PS4</td>\n",
       "      <td>164</td>\n",
       "    </tr>\n",
       "    <tr>\n",
       "      <td>PSV</td>\n",
       "      <td>85</td>\n",
       "    </tr>\n",
       "    <tr>\n",
       "      <td>Wii</td>\n",
       "      <td>1</td>\n",
       "    </tr>\n",
       "    <tr>\n",
       "      <td>WiiU</td>\n",
       "      <td>14</td>\n",
       "    </tr>\n",
       "    <tr>\n",
       "      <td>X360</td>\n",
       "      <td>13</td>\n",
       "    </tr>\n",
       "    <tr>\n",
       "      <td>XOne</td>\n",
       "      <td>87</td>\n",
       "    </tr>\n",
       "  </tbody>\n",
       "</table>\n",
       "</div>"
      ],
      "text/plain": [
       "                          name\n",
       "year_of_release platform      \n",
       "2014            3DS         80\n",
       "                PC          47\n",
       "                PS3        108\n",
       "                PS4         75\n",
       "                PSP         10\n",
       "                PSV        100\n",
       "                Wii          6\n",
       "                WiiU        31\n",
       "                X360        63\n",
       "                XOne        61\n",
       "2015            3DS         86\n",
       "                PC          50\n",
       "                PS3         73\n",
       "                PS4        137\n",
       "                PSP          3\n",
       "                PSV        110\n",
       "                Wii          4\n",
       "                WiiU        28\n",
       "                X360        35\n",
       "                XOne        80\n",
       "2016            3DS         46\n",
       "                PC          54\n",
       "                PS3         38\n",
       "                PS4        164\n",
       "                PSV         85\n",
       "                Wii          1\n",
       "                WiiU        14\n",
       "                X360        13\n",
       "                XOne        87"
      ]
     },
     "execution_count": 21,
     "metadata": {},
     "output_type": "execute_result"
    }
   ],
   "source": [
    "df = df.query('year_of_release > 2013').reset_index(drop=True)\n",
    "popular_platform = df.pivot_table(index=['year_of_release', 'platform'],values='name', aggfunc='count')#.sort_values(by='name',ascending=False)\n",
    "popular_platform"
   ]
  },
  {
   "cell_type": "markdown",
   "metadata": {},
   "source": [
    "Был взят актуальный актуальный период с 2014 года, так как для анализа данных на 2017 нас интресуют только новые и прибыльные платформы : XOne, PSV, PC, WiiU, PS4<br>\n",
    "\n",
    "Сумарное кол-во игр с 2014 года:\n",
    "<li>XOne: 228</li>\n",
    "<li>PSV: 295</li>\n",
    "<li>PC: 151</li>\n",
    "<li>WiiU: 73</li>\n",
    "<li>PS4: 376</li>"
   ]
  },
  {
   "cell_type": "markdown",
   "metadata": {},
   "source": []
  },
  {
   "cell_type": "code",
   "execution_count": 22,
   "metadata": {},
   "outputs": [],
   "source": [
    "popular_platform = ['PS4', '3DS', 'XOne','PC', 'PSV']\n",
    "\n"
   ]
  },
  {
   "cell_type": "code",
   "execution_count": 23,
   "metadata": {},
   "outputs": [
    {
     "name": "stdout",
     "output_type": "stream",
     "text": [
      "count    376.000000\n",
      "mean       0.766356\n",
      "std        1.614969\n",
      "min        0.010000\n",
      "25%        0.057500\n",
      "50%        0.185000\n",
      "75%        0.690000\n",
      "max       14.630000\n",
      "Name: all_sales, dtype: float64\n"
     ]
    },
    {
     "data": {
      "image/png": "[encoded data removed]",
      "text/plain": [
       "<Figure size 432x288 with 1 Axes>"
      ]
     },
     "metadata": {
      "needs_background": "light"
     },
     "output_type": "display_data"
    },
    {
     "name": "stdout",
     "output_type": "stream",
     "text": [
      "count    212.000000\n",
      "mean       0.408868\n",
      "std        1.188368\n",
      "min        0.010000\n",
      "25%        0.030000\n",
      "50%        0.090000\n",
      "75%        0.250000\n",
      "max       11.680000\n",
      "Name: all_sales, dtype: float64\n"
     ]
    },
    {
     "data": {
      "image/png": "[encoded data removed]",
      "text/plain": [
       "<Figure size 432x288 with 1 Axes>"
      ]
     },
     "metadata": {
      "needs_background": "light"
     },
     "output_type": "display_data"
    },
    {
     "name": "stdout",
     "output_type": "stream",
     "text": [
      "count    228.000000\n",
      "mean       0.615614\n",
      "std        1.046513\n",
      "min        0.010000\n",
      "25%        0.050000\n",
      "50%        0.205000\n",
      "75%        0.632500\n",
      "max        7.390000\n",
      "Name: all_sales, dtype: float64\n"
     ]
    },
    {
     "data": {
      "image/png": "[encoded data removed]",
      "text/plain": [
       "<Figure size 432x288 with 1 Axes>"
      ]
     },
     "metadata": {
      "needs_background": "light"
     },
     "output_type": "display_data"
    },
    {
     "name": "stdout",
     "output_type": "stream",
     "text": [
      "count    151.000000\n",
      "mean       0.179139\n",
      "std        0.329359\n",
      "min        0.010000\n",
      "25%        0.020000\n",
      "50%        0.060000\n",
      "75%        0.200000\n",
      "max        3.050000\n",
      "Name: all_sales, dtype: float64\n"
     ]
    },
    {
     "data": {
      "image/png": "[encoded data removed]",
      "text/plain": [
       "<Figure size 432x288 with 1 Axes>"
      ]
     },
     "metadata": {
      "needs_background": "light"
     },
     "output_type": "display_data"
    },
    {
     "name": "stdout",
     "output_type": "stream",
     "text": [
      "count    295.000000\n",
      "mean       0.075932\n",
      "std        0.141591\n",
      "min        0.010000\n",
      "25%        0.020000\n",
      "50%        0.040000\n",
      "75%        0.090000\n",
      "max        1.960000\n",
      "Name: all_sales, dtype: float64\n"
     ]
    },
    {
     "data": {
      "image/png": "[encoded data removed]",
      "text/plain": [
       "<Figure size 432x288 with 1 Axes>"
      ]
     },
     "metadata": {
      "needs_background": "light"
     },
     "output_type": "display_data"
    }
   ],
   "source": [
    " for hist in popular_platform :\n",
    "        \n",
    "        \n",
    "        df1 = df.query('platform == @hist')\n",
    "        Q1 = df1['all_sales'].describe()['25%'] \n",
    "        Q3 = df1['all_sales'].describe()['75%']\n",
    "        q1 = Q1 - 3 * (Q3 - Q1)\n",
    "        q3 = Q3 + 3 * (Q3 - Q1)\n",
    "        \n",
    "        print(df1['all_sales'].describe())\n",
    "        df1['all_sales'].plot.box(grid=True)\n",
    "        plt.title(hist)\n",
    "        #sns.boxplot(data=df1, x='all_sales', palette='rainbow')\n",
    "        plt.ylim(q1,q3)\n",
    "        plt.show()\n",
    "        "
   ]
  },
  {
   "cell_type": "markdown",
   "metadata": {},
   "source": [
    "Разница между платформами формируется из-за того, что на такие платформы как PS4  и XONE выходит огромное кол-во эксклюзивов, а также сами платформы стоят намного дешелве, и может 'тянуть' требователтные игры\n",
    "\n"
   ]
  },
  {
   "cell_type": "code",
   "execution_count": 24,
   "metadata": {},
   "outputs": [
    {
     "data": {
      "text/html": [
       "<div>\n",
       "<style scoped>\n",
       "    .dataframe tbody tr th:only-of-type {\n",
       "        vertical-align: middle;\n",
       "    }\n",
       "\n",
       "    .dataframe tbody tr th {\n",
       "        vertical-align: top;\n",
       "    }\n",
       "\n",
       "    .dataframe thead th {\n",
       "        text-align: right;\n",
       "    }\n",
       "</style>\n",
       "<table border=\"1\" class=\"dataframe\">\n",
       "  <thead>\n",
       "    <tr style=\"text-align: right;\">\n",
       "      <th></th>\n",
       "      <th>name</th>\n",
       "      <th>platform</th>\n",
       "      <th>year_of_release</th>\n",
       "      <th>genre</th>\n",
       "      <th>na_sales</th>\n",
       "      <th>eu_sales</th>\n",
       "      <th>jp_sales</th>\n",
       "      <th>other_sales</th>\n",
       "      <th>critic_score</th>\n",
       "      <th>user_score</th>\n",
       "      <th>rating</th>\n",
       "      <th>all_sales</th>\n",
       "    </tr>\n",
       "  </thead>\n",
       "  <tbody>\n",
       "    <tr>\n",
       "      <td>51</td>\n",
       "      <td>The Sims 4</td>\n",
       "      <td>PC</td>\n",
       "      <td>2014</td>\n",
       "      <td>Simulation</td>\n",
       "      <td>1.00</td>\n",
       "      <td>1.82</td>\n",
       "      <td>0.0</td>\n",
       "      <td>0.23</td>\n",
       "      <td>70.0</td>\n",
       "      <td>3.9</td>\n",
       "      <td>T</td>\n",
       "      <td>3.05</td>\n",
       "    </tr>\n",
       "    <tr>\n",
       "      <td>135</td>\n",
       "      <td>Fallout 4</td>\n",
       "      <td>PC</td>\n",
       "      <td>2015</td>\n",
       "      <td>Role-Playing</td>\n",
       "      <td>0.51</td>\n",
       "      <td>0.67</td>\n",
       "      <td>0.0</td>\n",
       "      <td>0.10</td>\n",
       "      <td>84.0</td>\n",
       "      <td>5.4</td>\n",
       "      <td>M</td>\n",
       "      <td>1.28</td>\n",
       "    </tr>\n",
       "    <tr>\n",
       "      <td>148</td>\n",
       "      <td>Farming Simulator 2015</td>\n",
       "      <td>PC</td>\n",
       "      <td>2014</td>\n",
       "      <td>Simulation</td>\n",
       "      <td>0.08</td>\n",
       "      <td>1.04</td>\n",
       "      <td>0.0</td>\n",
       "      <td>0.07</td>\n",
       "      <td>NaN</td>\n",
       "      <td>NaN</td>\n",
       "      <td>E</td>\n",
       "      <td>1.19</td>\n",
       "    </tr>\n",
       "    <tr>\n",
       "      <td>152</td>\n",
       "      <td>Grand Theft Auto V</td>\n",
       "      <td>PC</td>\n",
       "      <td>2015</td>\n",
       "      <td>Action</td>\n",
       "      <td>0.39</td>\n",
       "      <td>0.69</td>\n",
       "      <td>0.0</td>\n",
       "      <td>0.09</td>\n",
       "      <td>96.0</td>\n",
       "      <td>7.9</td>\n",
       "      <td>M</td>\n",
       "      <td>1.17</td>\n",
       "    </tr>\n",
       "    <tr>\n",
       "      <td>191</td>\n",
       "      <td>The Elder Scrolls Online</td>\n",
       "      <td>PC</td>\n",
       "      <td>2014</td>\n",
       "      <td>Role-Playing</td>\n",
       "      <td>0.32</td>\n",
       "      <td>0.51</td>\n",
       "      <td>0.0</td>\n",
       "      <td>0.07</td>\n",
       "      <td>71.0</td>\n",
       "      <td>5.7</td>\n",
       "      <td>M</td>\n",
       "      <td>0.90</td>\n",
       "    </tr>\n",
       "    <tr>\n",
       "      <td>...</td>\n",
       "      <td>...</td>\n",
       "      <td>...</td>\n",
       "      <td>...</td>\n",
       "      <td>...</td>\n",
       "      <td>...</td>\n",
       "      <td>...</td>\n",
       "      <td>...</td>\n",
       "      <td>...</td>\n",
       "      <td>...</td>\n",
       "      <td>...</td>\n",
       "      <td>...</td>\n",
       "      <td>...</td>\n",
       "    </tr>\n",
       "    <tr>\n",
       "      <td>1631</td>\n",
       "      <td>Ride 2</td>\n",
       "      <td>PC</td>\n",
       "      <td>2016</td>\n",
       "      <td>Racing</td>\n",
       "      <td>0.00</td>\n",
       "      <td>0.01</td>\n",
       "      <td>0.0</td>\n",
       "      <td>0.00</td>\n",
       "      <td>78.0</td>\n",
       "      <td>7.9</td>\n",
       "      <td>E</td>\n",
       "      <td>0.01</td>\n",
       "    </tr>\n",
       "    <tr>\n",
       "      <td>1634</td>\n",
       "      <td>Rugby World Cup 2015</td>\n",
       "      <td>PC</td>\n",
       "      <td>2015</td>\n",
       "      <td>Sports</td>\n",
       "      <td>0.00</td>\n",
       "      <td>0.01</td>\n",
       "      <td>0.0</td>\n",
       "      <td>0.00</td>\n",
       "      <td>NaN</td>\n",
       "      <td>1.4</td>\n",
       "      <td>E</td>\n",
       "      <td>0.01</td>\n",
       "    </tr>\n",
       "    <tr>\n",
       "      <td>1661</td>\n",
       "      <td>Codename: Panzers Complete Collection</td>\n",
       "      <td>PC</td>\n",
       "      <td>2016</td>\n",
       "      <td>Strategy</td>\n",
       "      <td>0.00</td>\n",
       "      <td>0.01</td>\n",
       "      <td>0.0</td>\n",
       "      <td>0.00</td>\n",
       "      <td>NaN</td>\n",
       "      <td>NaN</td>\n",
       "      <td>T</td>\n",
       "      <td>0.01</td>\n",
       "    </tr>\n",
       "    <tr>\n",
       "      <td>1665</td>\n",
       "      <td>The Amazing Spider-Man 2 (2014)</td>\n",
       "      <td>PC</td>\n",
       "      <td>2014</td>\n",
       "      <td>Action</td>\n",
       "      <td>0.00</td>\n",
       "      <td>0.01</td>\n",
       "      <td>0.0</td>\n",
       "      <td>0.00</td>\n",
       "      <td>NaN</td>\n",
       "      <td>NaN</td>\n",
       "      <td>M</td>\n",
       "      <td>0.01</td>\n",
       "    </tr>\n",
       "    <tr>\n",
       "      <td>1682</td>\n",
       "      <td>Metal Gear Solid V: Ground Zeroes</td>\n",
       "      <td>PC</td>\n",
       "      <td>2014</td>\n",
       "      <td>Action</td>\n",
       "      <td>0.00</td>\n",
       "      <td>0.01</td>\n",
       "      <td>0.0</td>\n",
       "      <td>0.00</td>\n",
       "      <td>80.0</td>\n",
       "      <td>7.6</td>\n",
       "      <td>M</td>\n",
       "      <td>0.01</td>\n",
       "    </tr>\n",
       "  </tbody>\n",
       "</table>\n",
       "<p>151 rows × 12 columns</p>\n",
       "</div>"
      ],
      "text/plain": [
       "                                       name platform  year_of_release  \\\n",
       "51                               The Sims 4       PC             2014   \n",
       "135                               Fallout 4       PC             2015   \n",
       "148                  Farming Simulator 2015       PC             2014   \n",
       "152                      Grand Theft Auto V       PC             2015   \n",
       "191                The Elder Scrolls Online       PC             2014   \n",
       "...                                     ...      ...              ...   \n",
       "1631                                 Ride 2       PC             2016   \n",
       "1634                   Rugby World Cup 2015       PC             2015   \n",
       "1661  Codename: Panzers Complete Collection       PC             2016   \n",
       "1665        The Amazing Spider-Man 2 (2014)       PC             2014   \n",
       "1682      Metal Gear Solid V: Ground Zeroes       PC             2014   \n",
       "\n",
       "             genre  na_sales  eu_sales  jp_sales  other_sales  critic_score  \\\n",
       "51      Simulation      1.00      1.82       0.0         0.23          70.0   \n",
       "135   Role-Playing      0.51      0.67       0.0         0.10          84.0   \n",
       "148     Simulation      0.08      1.04       0.0         0.07           NaN   \n",
       "152         Action      0.39      0.69       0.0         0.09          96.0   \n",
       "191   Role-Playing      0.32      0.51       0.0         0.07          71.0   \n",
       "...            ...       ...       ...       ...          ...           ...   \n",
       "1631        Racing      0.00      0.01       0.0         0.00          78.0   \n",
       "1634        Sports      0.00      0.01       0.0         0.00           NaN   \n",
       "1661      Strategy      0.00      0.01       0.0         0.00           NaN   \n",
       "1665        Action      0.00      0.01       0.0         0.00           NaN   \n",
       "1682        Action      0.00      0.01       0.0         0.00          80.0   \n",
       "\n",
       "      user_score rating  all_sales  \n",
       "51           3.9      T       3.05  \n",
       "135          5.4      M       1.28  \n",
       "148          NaN      E       1.19  \n",
       "152          7.9      M       1.17  \n",
       "191          5.7      M       0.90  \n",
       "...          ...    ...        ...  \n",
       "1631         7.9      E       0.01  \n",
       "1634         1.4      E       0.01  \n",
       "1661         NaN      T       0.01  \n",
       "1665         NaN      M       0.01  \n",
       "1682         7.6      M       0.01  \n",
       "\n",
       "[151 rows x 12 columns]"
      ]
     },
     "execution_count": 24,
     "metadata": {},
     "output_type": "execute_result"
    }
   ],
   "source": [
    "pc_sales = df.query('platform == \"PC\"')\n",
    "pc_sales\n",
    "\n"
   ]
  },
  {
   "cell_type": "code",
   "execution_count": 25,
   "metadata": {},
   "outputs": [
    {
     "name": "stdout",
     "output_type": "stream",
     "text": [
      "count    127.000000\n",
      "mean       6.011024\n",
      "std        2.194663\n",
      "min       -1.000000\n",
      "25%        4.800000\n",
      "50%        6.800000\n",
      "75%        7.550000\n",
      "max        9.300000\n",
      "Name: user_score, dtype: float64\n"
     ]
    },
    {
     "data": {
      "image/png": "[encoded data removed]",
      "text/plain": [
       "<Figure size 432x288 with 1 Axes>"
      ]
     },
     "metadata": {
      "needs_background": "light"
     },
     "output_type": "display_data"
    },
    {
     "name": "stdout",
     "output_type": "stream",
     "text": [
      "count    116.000000\n",
      "mean      76.215517\n",
      "std        9.769345\n",
      "min       43.000000\n",
      "25%       71.000000\n",
      "50%       77.000000\n",
      "75%       83.250000\n",
      "max       96.000000\n",
      "Name: critic_score, dtype: float64\n"
     ]
    },
    {
     "data": {
      "image/png": "[encoded data removed]",
      "text/plain": [
       "<Figure size 432x288 with 1 Axes>"
      ]
     },
     "metadata": {
      "needs_background": "light"
     },
     "output_type": "display_data"
    }
   ],
   "source": [
    "pc_sales['user_score'].fillna(-1)\n",
    "pc_sales['critic_score'].fillna(-1)\n",
    "\n",
    "\n",
    "\n",
    "l3 = ['user_score', 'critic_score']\n",
    "\n",
    "for pc in l3:\n",
    "\n",
    "\n",
    "    Q1 = pc_sales[pc].describe()['25%'] \n",
    "    Q3 = pc_sales[pc].describe()['75%']\n",
    "    q1 = Q1 - 3 * (Q3 - Q1)\n",
    "    q3 = Q3 + 3 * (Q3 - Q1)\n",
    "\n",
    "    print(pc_sales[pc].describe())\n",
    "    pc_sales[pc].plot.box(grid=True)\n",
    "    plt.ylim(q1,q3)\n",
    "    plt.show()"
   ]
  },
  {
   "cell_type": "code",
   "execution_count": 26,
   "metadata": {},
   "outputs": [],
   "source": [
    "pc_sales = pc_sales.query('(user_score > 0)'\n",
    "                         'and (critic_score > 0 )')"
   ]
  },
  {
   "cell_type": "code",
   "execution_count": 27,
   "metadata": {},
   "outputs": [],
   "source": [
    "pc_sales1 = pd.DataFrame({'critic_score': pc_sales['critic_score'], 'user_score': pc_sales['user_score'], 'all_sales': pc_sales['all_sales']})"
   ]
  },
  {
   "cell_type": "code",
   "execution_count": 28,
   "metadata": {},
   "outputs": [
    {
     "data": {
      "image/png": "[encoded data removed]",
      "text/plain": [
       "<Figure size 432x288 with 2 Axes>"
      ]
     },
     "metadata": {
      "needs_background": "light"
     },
     "output_type": "display_data"
    }
   ],
   "source": [
    "sns.heatmap(pc_sales1.corr(), cmap='coolwarm',annot=True)\n",
    "plt.show()"
   ]
  },
  {
   "cell_type": "code",
   "execution_count": 29,
   "metadata": {},
   "outputs": [
    {
     "data": {
      "image/png": "[encoded data removed]",
      "text/plain": [
       "<Figure size 432x288 with 1 Axes>"
      ]
     },
     "metadata": {},
     "output_type": "display_data"
    },
    {
     "data": {
      "image/png": "[encoded data removed]",
      "text/plain": [
       "<Figure size 432x288 with 1 Axes>"
      ]
     },
     "metadata": {},
     "output_type": "display_data"
    }
   ],
   "source": [
    "for hist4 in l3:\n",
    "    \n",
    "    sns.set_style(\"darkgrid\", {'axes.grid' : False})\n",
    "    df.sort_values('all_sales').plot(x=hist4, y='all_sales', kind='scatter', alpha=0.5)\n",
    "    plt.ylim(1,7)\n",
    "    plt.show()"
   ]
  },
  {
   "cell_type": "markdown",
   "metadata": {},
   "source": [
    "Поститав корреляцию отзывово и колтчествам продаж:\n",
    "<li>Кореляция между оценкой критиков и продажами: 0.17</li>\n",
    "<li>Кореляция между оценкой игроков и продажами: -0.09</li>\n",
    "\n",
    "Делаем вывод, что прямой завсимости между продажами и оценкой нет<br>\n",
    "По диаграме рассеяния же видно, что игры с более высокой оценкой имеют больше продаж <br>"
   ]
  },
  {
   "cell_type": "markdown",
   "metadata": {},
   "source": [
    "<div class=\"alert alert-info\" role=\"alert\">\n",
    "Цвет кружков как-то можно поменять? И как-то можно эту диаграму сделать красивее?\n",
    "</div>\n"
   ]
  },
  {
   "cell_type": "markdown",
   "metadata": {},
   "source": []
  },
  {
   "cell_type": "code",
   "execution_count": 30,
   "metadata": {},
   "outputs": [
    {
     "data": {
      "image/png": "[encoded data removed]",
      "text/plain": [
       "<Figure size 432x288 with 1 Axes>"
      ]
     },
     "metadata": {},
     "output_type": "display_data"
    },
    {
     "data": {
      "image/png": "[encoded data removed]",
      "text/plain": [
       "<Figure size 432x288 with 1 Axes>"
      ]
     },
     "metadata": {},
     "output_type": "display_data"
    }
   ],
   "source": [
    "# Код ревьюера\n",
    "for hist4 in l3:\n",
    "    \n",
    "    sns.set_style(\"darkgrid\", {'axes.grid' : False})\n",
    "    df.sort_values('all_sales').plot(x=hist4, y='all_sales', kind='scatter', alpha=0.5, color='r')\n",
    "    plt.ylim(1,7)\n",
    "    plt.show()\n",
    "\n"
   ]
  },
  {
   "cell_type": "code",
   "execution_count": 31,
   "metadata": {},
   "outputs": [
    {
     "data": {
      "text/html": [
       "<div>\n",
       "<style scoped>\n",
       "    .dataframe tbody tr th:only-of-type {\n",
       "        vertical-align: middle;\n",
       "    }\n",
       "\n",
       "    .dataframe tbody tr th {\n",
       "        vertical-align: top;\n",
       "    }\n",
       "\n",
       "    .dataframe thead th {\n",
       "        text-align: right;\n",
       "    }\n",
       "</style>\n",
       "<table border=\"1\" class=\"dataframe\">\n",
       "  <thead>\n",
       "    <tr style=\"text-align: right;\">\n",
       "      <th></th>\n",
       "      <th>all_sales</th>\n",
       "    </tr>\n",
       "    <tr>\n",
       "      <th>genre</th>\n",
       "      <th></th>\n",
       "    </tr>\n",
       "  </thead>\n",
       "  <tbody>\n",
       "    <tr>\n",
       "      <td>Action</td>\n",
       "      <td>199.36</td>\n",
       "    </tr>\n",
       "    <tr>\n",
       "      <td>Adventure</td>\n",
       "      <td>17.55</td>\n",
       "    </tr>\n",
       "    <tr>\n",
       "      <td>Fighting</td>\n",
       "      <td>28.22</td>\n",
       "    </tr>\n",
       "    <tr>\n",
       "      <td>Misc</td>\n",
       "      <td>37.55</td>\n",
       "    </tr>\n",
       "    <tr>\n",
       "      <td>Platform</td>\n",
       "      <td>18.09</td>\n",
       "    </tr>\n",
       "    <tr>\n",
       "      <td>Puzzle</td>\n",
       "      <td>2.21</td>\n",
       "    </tr>\n",
       "    <tr>\n",
       "      <td>Racing</td>\n",
       "      <td>27.52</td>\n",
       "    </tr>\n",
       "    <tr>\n",
       "      <td>Role-Playing</td>\n",
       "      <td>101.44</td>\n",
       "    </tr>\n",
       "    <tr>\n",
       "      <td>Shooter</td>\n",
       "      <td>170.94</td>\n",
       "    </tr>\n",
       "    <tr>\n",
       "      <td>Simulation</td>\n",
       "      <td>13.13</td>\n",
       "    </tr>\n",
       "    <tr>\n",
       "      <td>Sports</td>\n",
       "      <td>109.48</td>\n",
       "    </tr>\n",
       "    <tr>\n",
       "      <td>Strategy</td>\n",
       "      <td>3.96</td>\n",
       "    </tr>\n",
       "  </tbody>\n",
       "</table>\n",
       "</div>"
      ],
      "text/plain": [
       "              all_sales\n",
       "genre                  \n",
       "Action           199.36\n",
       "Adventure         17.55\n",
       "Fighting          28.22\n",
       "Misc              37.55\n",
       "Platform          18.09\n",
       "Puzzle             2.21\n",
       "Racing            27.52\n",
       "Role-Playing     101.44\n",
       "Shooter          170.94\n",
       "Simulation        13.13\n",
       "Sports           109.48\n",
       "Strategy           3.96"
      ]
     },
     "execution_count": 31,
     "metadata": {},
     "output_type": "execute_result"
    }
   ],
   "source": [
    "df_genre = df.pivot_table(index='genre', values='all_sales', aggfunc='sum')\n",
    "df_genre"
   ]
  },
  {
   "cell_type": "code",
   "execution_count": 32,
   "metadata": {},
   "outputs": [
    {
     "data": {
      "image/png": "[encoded data removed]",
      "text/plain": [
       "<Figure size 432x288 with 1 Axes>"
      ]
     },
     "metadata": {},
     "output_type": "display_data"
    }
   ],
   "source": [
    "plt.barh(df_genre.index, df_genre['all_sales'])\n",
    "plt.grid(True)\n",
    "plt.title('Count of sales for genre')\n",
    "plt.ylabel('categories')\n",
    "plt.xlabel('sales')\n",
    "plt.show()\n"
   ]
  },
  {
   "cell_type": "markdown",
   "metadata": {},
   "source": [
    "Самые популярные жанры:\n",
    "<li>Action: 169.78 млн продаж</li>\n",
    "<li>Shooter: 166.07 млн продаж</li>\n",
    "<li>Sports: 106.22 млн продаж</li>\n",
    "\n",
    "Самые не  популярные жанры:\n",
    "<li>Puzzle: 1.28 млн продаж</li>\n",
    "<li>Strategy: 3.01 млн продаж</li>\n",
    "<li>Simulation: 10.82 млн продаж</li>\n",
    "\n",
    "\n",
    "Средняя продолжительность существования какой-либо платформы 7 лет, PC как платформа акктаульна всегда\n",
    "\n",
    "\n",
    "\n",
    "\n"
   ]
  },
  {
   "cell_type": "markdown",
   "metadata": {},
   "source": [
    "<h1>Шаг 4. Составьте портрет пользователя каждого региона</h1>"
   ]
  },
  {
   "cell_type": "markdown",
   "metadata": {},
   "source": []
  },
  {
   "cell_type": "code",
   "execution_count": 33,
   "metadata": {},
   "outputs": [],
   "source": [
    " # далее функции для нахожения долей продаж в след ячейке пояснения \n",
    "\n",
    "\n",
    "def sel_eu(row):\n",
    "    \n",
    "    all_sales = row['all_sales']\n",
    "    eu_sales = row['eu_sales']\n",
    "    \n",
    "    return eu_sales / all_sales\n",
    "\n",
    "\n",
    "def sel_jp(row):\n",
    "    \n",
    "    all_sales = row['all_sales']\n",
    "    jp_sales = row['jp_sales']\n",
    "    \n",
    "    return jp_sales / all_sales\n",
    "    \n",
    "    \n",
    "def sel_na(row):\n",
    "    \n",
    "    all_sales = row['all_sales']\n",
    "    na_sales = row['na_sales']\n",
    "    \n",
    "    return na_sales / all_sales\n",
    "    \n",
    "    \n"
   ]
  },
  {
   "cell_type": "code",
   "execution_count": 34,
   "metadata": {},
   "outputs": [
    {
     "data": {
      "text/html": [
       "<div>\n",
       "<style scoped>\n",
       "    .dataframe tbody tr th:only-of-type {\n",
       "        vertical-align: middle;\n",
       "    }\n",
       "\n",
       "    .dataframe tbody tr th {\n",
       "        vertical-align: top;\n",
       "    }\n",
       "\n",
       "    .dataframe thead th {\n",
       "        text-align: right;\n",
       "    }\n",
       "</style>\n",
       "<table border=\"1\" class=\"dataframe\">\n",
       "  <thead>\n",
       "    <tr style=\"text-align: right;\">\n",
       "      <th></th>\n",
       "      <th>eu</th>\n",
       "      <th>jp</th>\n",
       "      <th>na</th>\n",
       "    </tr>\n",
       "    <tr>\n",
       "      <th>PS4</th>\n",
       "      <th></th>\n",
       "      <th></th>\n",
       "      <th></th>\n",
       "    </tr>\n",
       "  </thead>\n",
       "  <tbody>\n",
       "    <tr>\n",
       "      <td>Shooter</td>\n",
       "      <td>0.444175</td>\n",
       "      <td>0.031991</td>\n",
       "      <td>0.365027</td>\n",
       "    </tr>\n",
       "    <tr>\n",
       "      <td>Action</td>\n",
       "      <td>0.443571</td>\n",
       "      <td>0.063632</td>\n",
       "      <td>0.340210</td>\n",
       "    </tr>\n",
       "    <tr>\n",
       "      <td>Role-Playing</td>\n",
       "      <td>0.412556</td>\n",
       "      <td>0.122456</td>\n",
       "      <td>0.322180</td>\n",
       "    </tr>\n",
       "    <tr>\n",
       "      <td>Sports</td>\n",
       "      <td>0.472705</td>\n",
       "      <td>0.017397</td>\n",
       "      <td>0.349930</td>\n",
       "    </tr>\n",
       "    <tr>\n",
       "      <td>Fighting</td>\n",
       "      <td>0.345408</td>\n",
       "      <td>0.097025</td>\n",
       "      <td>0.406210</td>\n",
       "    </tr>\n",
       "    <tr>\n",
       "      <td>Racing</td>\n",
       "      <td>0.642717</td>\n",
       "      <td>0.022638</td>\n",
       "      <td>0.185039</td>\n",
       "    </tr>\n",
       "    <tr>\n",
       "      <td>Misc</td>\n",
       "      <td>0.410553</td>\n",
       "      <td>0.054054</td>\n",
       "      <td>0.379665</td>\n",
       "    </tr>\n",
       "    <tr>\n",
       "      <td>Platform</td>\n",
       "      <td>0.503690</td>\n",
       "      <td>0.012915</td>\n",
       "      <td>0.324723</td>\n",
       "    </tr>\n",
       "    <tr>\n",
       "      <td>Simulation</td>\n",
       "      <td>0.552846</td>\n",
       "      <td>0.146341</td>\n",
       "      <td>0.170732</td>\n",
       "    </tr>\n",
       "    <tr>\n",
       "      <td>Adventure</td>\n",
       "      <td>0.473186</td>\n",
       "      <td>0.070978</td>\n",
       "      <td>0.307571</td>\n",
       "    </tr>\n",
       "    <tr>\n",
       "      <td>Puzzle</td>\n",
       "      <td>1.000000</td>\n",
       "      <td>0.000000</td>\n",
       "      <td>0.000000</td>\n",
       "    </tr>\n",
       "    <tr>\n",
       "      <td>Strategy</td>\n",
       "      <td>0.325000</td>\n",
       "      <td>0.400000</td>\n",
       "      <td>0.175000</td>\n",
       "    </tr>\n",
       "  </tbody>\n",
       "</table>\n",
       "</div>"
      ],
      "text/plain": [
       "                    eu        jp        na\n",
       "PS4                                       \n",
       "Shooter       0.444175  0.031991  0.365027\n",
       "Action        0.443571  0.063632  0.340210\n",
       "Role-Playing  0.412556  0.122456  0.322180\n",
       "Sports        0.472705  0.017397  0.349930\n",
       "Fighting      0.345408  0.097025  0.406210\n",
       "Racing        0.642717  0.022638  0.185039\n",
       "Misc          0.410553  0.054054  0.379665\n",
       "Platform      0.503690  0.012915  0.324723\n",
       "Simulation    0.552846  0.146341  0.170732\n",
       "Adventure     0.473186  0.070978  0.307571\n",
       "Puzzle        1.000000  0.000000  0.000000\n",
       "Strategy      0.325000  0.400000  0.175000"
      ]
     },
     "metadata": {},
     "output_type": "display_data"
    },
    {
     "name": "stdout",
     "output_type": "stream",
     "text": [
      "\n"
     ]
    },
    {
     "data": {
      "text/html": [
       "<div>\n",
       "<style scoped>\n",
       "    .dataframe tbody tr th:only-of-type {\n",
       "        vertical-align: middle;\n",
       "    }\n",
       "\n",
       "    .dataframe tbody tr th {\n",
       "        vertical-align: top;\n",
       "    }\n",
       "\n",
       "    .dataframe thead th {\n",
       "        text-align: right;\n",
       "    }\n",
       "</style>\n",
       "<table border=\"1\" class=\"dataframe\">\n",
       "  <thead>\n",
       "    <tr style=\"text-align: right;\">\n",
       "      <th></th>\n",
       "      <th>eu</th>\n",
       "      <th>jp</th>\n",
       "      <th>na</th>\n",
       "    </tr>\n",
       "    <tr>\n",
       "      <th>3DS</th>\n",
       "      <th></th>\n",
       "      <th></th>\n",
       "      <th></th>\n",
       "    </tr>\n",
       "  </thead>\n",
       "  <tbody>\n",
       "    <tr>\n",
       "      <td>Shooter</td>\n",
       "      <td>NaN</td>\n",
       "      <td>NaN</td>\n",
       "      <td>NaN</td>\n",
       "    </tr>\n",
       "    <tr>\n",
       "      <td>Action</td>\n",
       "      <td>0.169084</td>\n",
       "      <td>0.600635</td>\n",
       "      <td>0.198096</td>\n",
       "    </tr>\n",
       "    <tr>\n",
       "      <td>Role-Playing</td>\n",
       "      <td>0.170415</td>\n",
       "      <td>0.504498</td>\n",
       "      <td>0.280860</td>\n",
       "    </tr>\n",
       "    <tr>\n",
       "      <td>Sports</td>\n",
       "      <td>0.356061</td>\n",
       "      <td>0.416667</td>\n",
       "      <td>0.181818</td>\n",
       "    </tr>\n",
       "    <tr>\n",
       "      <td>Fighting</td>\n",
       "      <td>0.172840</td>\n",
       "      <td>0.346914</td>\n",
       "      <td>0.418519</td>\n",
       "    </tr>\n",
       "    <tr>\n",
       "      <td>Racing</td>\n",
       "      <td>NaN</td>\n",
       "      <td>NaN</td>\n",
       "      <td>NaN</td>\n",
       "    </tr>\n",
       "    <tr>\n",
       "      <td>Misc</td>\n",
       "      <td>0.275325</td>\n",
       "      <td>0.532468</td>\n",
       "      <td>0.158442</td>\n",
       "    </tr>\n",
       "    <tr>\n",
       "      <td>Platform</td>\n",
       "      <td>0.256281</td>\n",
       "      <td>0.309045</td>\n",
       "      <td>0.374372</td>\n",
       "    </tr>\n",
       "    <tr>\n",
       "      <td>Simulation</td>\n",
       "      <td>0.288136</td>\n",
       "      <td>0.501211</td>\n",
       "      <td>0.171913</td>\n",
       "    </tr>\n",
       "    <tr>\n",
       "      <td>Adventure</td>\n",
       "      <td>0.171975</td>\n",
       "      <td>0.585987</td>\n",
       "      <td>0.197452</td>\n",
       "    </tr>\n",
       "    <tr>\n",
       "      <td>Puzzle</td>\n",
       "      <td>0.126437</td>\n",
       "      <td>0.712644</td>\n",
       "      <td>0.137931</td>\n",
       "    </tr>\n",
       "    <tr>\n",
       "      <td>Strategy</td>\n",
       "      <td>0.064103</td>\n",
       "      <td>0.705128</td>\n",
       "      <td>0.205128</td>\n",
       "    </tr>\n",
       "  </tbody>\n",
       "</table>\n",
       "</div>"
      ],
      "text/plain": [
       "                    eu        jp        na\n",
       "3DS                                       \n",
       "Shooter            NaN       NaN       NaN\n",
       "Action        0.169084  0.600635  0.198096\n",
       "Role-Playing  0.170415  0.504498  0.280860\n",
       "Sports        0.356061  0.416667  0.181818\n",
       "Fighting      0.172840  0.346914  0.418519\n",
       "Racing             NaN       NaN       NaN\n",
       "Misc          0.275325  0.532468  0.158442\n",
       "Platform      0.256281  0.309045  0.374372\n",
       "Simulation    0.288136  0.501211  0.171913\n",
       "Adventure     0.171975  0.585987  0.197452\n",
       "Puzzle        0.126437  0.712644  0.137931\n",
       "Strategy      0.064103  0.705128  0.205128"
      ]
     },
     "metadata": {},
     "output_type": "display_data"
    },
    {
     "name": "stdout",
     "output_type": "stream",
     "text": [
      "\n"
     ]
    },
    {
     "data": {
      "text/html": [
       "<div>\n",
       "<style scoped>\n",
       "    .dataframe tbody tr th:only-of-type {\n",
       "        vertical-align: middle;\n",
       "    }\n",
       "\n",
       "    .dataframe tbody tr th {\n",
       "        vertical-align: top;\n",
       "    }\n",
       "\n",
       "    .dataframe thead th {\n",
       "        text-align: right;\n",
       "    }\n",
       "</style>\n",
       "<table border=\"1\" class=\"dataframe\">\n",
       "  <thead>\n",
       "    <tr style=\"text-align: right;\">\n",
       "      <th></th>\n",
       "      <th>eu</th>\n",
       "      <th>jp</th>\n",
       "      <th>na</th>\n",
       "    </tr>\n",
       "    <tr>\n",
       "      <th>XOne</th>\n",
       "      <th></th>\n",
       "      <th></th>\n",
       "      <th></th>\n",
       "    </tr>\n",
       "  </thead>\n",
       "  <tbody>\n",
       "    <tr>\n",
       "      <td>Shooter</td>\n",
       "      <td>0.296985</td>\n",
       "      <td>0.002889</td>\n",
       "      <td>0.608955</td>\n",
       "    </tr>\n",
       "    <tr>\n",
       "      <td>Action</td>\n",
       "      <td>0.350934</td>\n",
       "      <td>0.001288</td>\n",
       "      <td>0.559884</td>\n",
       "    </tr>\n",
       "    <tr>\n",
       "      <td>Role-Playing</td>\n",
       "      <td>0.325118</td>\n",
       "      <td>0.000948</td>\n",
       "      <td>0.582938</td>\n",
       "    </tr>\n",
       "    <tr>\n",
       "      <td>Sports</td>\n",
       "      <td>0.333193</td>\n",
       "      <td>0.000845</td>\n",
       "      <td>0.576436</td>\n",
       "    </tr>\n",
       "    <tr>\n",
       "      <td>Fighting</td>\n",
       "      <td>0.202765</td>\n",
       "      <td>0.004608</td>\n",
       "      <td>0.691244</td>\n",
       "    </tr>\n",
       "    <tr>\n",
       "      <td>Racing</td>\n",
       "      <td>0.525399</td>\n",
       "      <td>0.005806</td>\n",
       "      <td>0.390421</td>\n",
       "    </tr>\n",
       "    <tr>\n",
       "      <td>Misc</td>\n",
       "      <td>0.272997</td>\n",
       "      <td>0.001484</td>\n",
       "      <td>0.637982</td>\n",
       "    </tr>\n",
       "    <tr>\n",
       "      <td>Platform</td>\n",
       "      <td>0.451613</td>\n",
       "      <td>0.000000</td>\n",
       "      <td>0.467742</td>\n",
       "    </tr>\n",
       "    <tr>\n",
       "      <td>Simulation</td>\n",
       "      <td>0.484848</td>\n",
       "      <td>0.000000</td>\n",
       "      <td>0.424242</td>\n",
       "    </tr>\n",
       "    <tr>\n",
       "      <td>Adventure</td>\n",
       "      <td>0.436567</td>\n",
       "      <td>0.011194</td>\n",
       "      <td>0.473881</td>\n",
       "    </tr>\n",
       "    <tr>\n",
       "      <td>Puzzle</td>\n",
       "      <td>NaN</td>\n",
       "      <td>NaN</td>\n",
       "      <td>NaN</td>\n",
       "    </tr>\n",
       "    <tr>\n",
       "      <td>Strategy</td>\n",
       "      <td>0.280000</td>\n",
       "      <td>0.000000</td>\n",
       "      <td>0.640000</td>\n",
       "    </tr>\n",
       "  </tbody>\n",
       "</table>\n",
       "</div>"
      ],
      "text/plain": [
       "                    eu        jp        na\n",
       "XOne                                      \n",
       "Shooter       0.296985  0.002889  0.608955\n",
       "Action        0.350934  0.001288  0.559884\n",
       "Role-Playing  0.325118  0.000948  0.582938\n",
       "Sports        0.333193  0.000845  0.576436\n",
       "Fighting      0.202765  0.004608  0.691244\n",
       "Racing        0.525399  0.005806  0.390421\n",
       "Misc          0.272997  0.001484  0.637982\n",
       "Platform      0.451613  0.000000  0.467742\n",
       "Simulation    0.484848  0.000000  0.424242\n",
       "Adventure     0.436567  0.011194  0.473881\n",
       "Puzzle             NaN       NaN       NaN\n",
       "Strategy      0.280000  0.000000  0.640000"
      ]
     },
     "metadata": {},
     "output_type": "display_data"
    },
    {
     "name": "stdout",
     "output_type": "stream",
     "text": [
      "\n"
     ]
    },
    {
     "data": {
      "text/html": [
       "<div>\n",
       "<style scoped>\n",
       "    .dataframe tbody tr th:only-of-type {\n",
       "        vertical-align: middle;\n",
       "    }\n",
       "\n",
       "    .dataframe tbody tr th {\n",
       "        vertical-align: top;\n",
       "    }\n",
       "\n",
       "    .dataframe thead th {\n",
       "        text-align: right;\n",
       "    }\n",
       "</style>\n",
       "<table border=\"1\" class=\"dataframe\">\n",
       "  <thead>\n",
       "    <tr style=\"text-align: right;\">\n",
       "      <th></th>\n",
       "      <th>eu</th>\n",
       "      <th>jp</th>\n",
       "      <th>na</th>\n",
       "    </tr>\n",
       "    <tr>\n",
       "      <th>PC</th>\n",
       "      <th></th>\n",
       "      <th></th>\n",
       "      <th></th>\n",
       "    </tr>\n",
       "  </thead>\n",
       "  <tbody>\n",
       "    <tr>\n",
       "      <td>Shooter</td>\n",
       "      <td>0.602763</td>\n",
       "      <td>0.0</td>\n",
       "      <td>0.322971</td>\n",
       "    </tr>\n",
       "    <tr>\n",
       "      <td>Action</td>\n",
       "      <td>0.621723</td>\n",
       "      <td>0.0</td>\n",
       "      <td>0.310861</td>\n",
       "    </tr>\n",
       "    <tr>\n",
       "      <td>Role-Playing</td>\n",
       "      <td>0.566735</td>\n",
       "      <td>0.0</td>\n",
       "      <td>0.361396</td>\n",
       "    </tr>\n",
       "    <tr>\n",
       "      <td>Sports</td>\n",
       "      <td>0.838710</td>\n",
       "      <td>0.0</td>\n",
       "      <td>0.107527</td>\n",
       "    </tr>\n",
       "    <tr>\n",
       "      <td>Fighting</td>\n",
       "      <td>0.900000</td>\n",
       "      <td>0.0</td>\n",
       "      <td>0.100000</td>\n",
       "    </tr>\n",
       "    <tr>\n",
       "      <td>Racing</td>\n",
       "      <td>0.953125</td>\n",
       "      <td>0.0</td>\n",
       "      <td>0.000000</td>\n",
       "    </tr>\n",
       "    <tr>\n",
       "      <td>Misc</td>\n",
       "      <td>1.000000</td>\n",
       "      <td>0.0</td>\n",
       "      <td>0.000000</td>\n",
       "    </tr>\n",
       "    <tr>\n",
       "      <td>Platform</td>\n",
       "      <td>0.833333</td>\n",
       "      <td>0.0</td>\n",
       "      <td>0.166667</td>\n",
       "    </tr>\n",
       "    <tr>\n",
       "      <td>Simulation</td>\n",
       "      <td>0.749621</td>\n",
       "      <td>0.0</td>\n",
       "      <td>0.182094</td>\n",
       "    </tr>\n",
       "    <tr>\n",
       "      <td>Adventure</td>\n",
       "      <td>0.871795</td>\n",
       "      <td>0.0</td>\n",
       "      <td>0.076923</td>\n",
       "    </tr>\n",
       "    <tr>\n",
       "      <td>Puzzle</td>\n",
       "      <td>NaN</td>\n",
       "      <td>NaN</td>\n",
       "      <td>NaN</td>\n",
       "    </tr>\n",
       "    <tr>\n",
       "      <td>Strategy</td>\n",
       "      <td>0.672489</td>\n",
       "      <td>0.0</td>\n",
       "      <td>0.257642</td>\n",
       "    </tr>\n",
       "  </tbody>\n",
       "</table>\n",
       "</div>"
      ],
      "text/plain": [
       "                    eu   jp        na\n",
       "PC                                   \n",
       "Shooter       0.602763  0.0  0.322971\n",
       "Action        0.621723  0.0  0.310861\n",
       "Role-Playing  0.566735  0.0  0.361396\n",
       "Sports        0.838710  0.0  0.107527\n",
       "Fighting      0.900000  0.0  0.100000\n",
       "Racing        0.953125  0.0  0.000000\n",
       "Misc          1.000000  0.0  0.000000\n",
       "Platform      0.833333  0.0  0.166667\n",
       "Simulation    0.749621  0.0  0.182094\n",
       "Adventure     0.871795  0.0  0.076923\n",
       "Puzzle             NaN  NaN       NaN\n",
       "Strategy      0.672489  0.0  0.257642"
      ]
     },
     "metadata": {},
     "output_type": "display_data"
    },
    {
     "name": "stdout",
     "output_type": "stream",
     "text": [
      "\n"
     ]
    },
    {
     "data": {
      "text/html": [
       "<div>\n",
       "<style scoped>\n",
       "    .dataframe tbody tr th:only-of-type {\n",
       "        vertical-align: middle;\n",
       "    }\n",
       "\n",
       "    .dataframe tbody tr th {\n",
       "        vertical-align: top;\n",
       "    }\n",
       "\n",
       "    .dataframe thead th {\n",
       "        text-align: right;\n",
       "    }\n",
       "</style>\n",
       "<table border=\"1\" class=\"dataframe\">\n",
       "  <thead>\n",
       "    <tr style=\"text-align: right;\">\n",
       "      <th></th>\n",
       "      <th>eu</th>\n",
       "      <th>jp</th>\n",
       "      <th>na</th>\n",
       "    </tr>\n",
       "    <tr>\n",
       "      <th>PSV</th>\n",
       "      <th></th>\n",
       "      <th></th>\n",
       "      <th></th>\n",
       "    </tr>\n",
       "  </thead>\n",
       "  <tbody>\n",
       "    <tr>\n",
       "      <td>Shooter</td>\n",
       "      <td>0.250000</td>\n",
       "      <td>0.015625</td>\n",
       "      <td>0.500000</td>\n",
       "    </tr>\n",
       "    <tr>\n",
       "      <td>Action</td>\n",
       "      <td>0.183400</td>\n",
       "      <td>0.655957</td>\n",
       "      <td>0.081660</td>\n",
       "    </tr>\n",
       "    <tr>\n",
       "      <td>Role-Playing</td>\n",
       "      <td>0.081967</td>\n",
       "      <td>0.768852</td>\n",
       "      <td>0.093443</td>\n",
       "    </tr>\n",
       "    <tr>\n",
       "      <td>Sports</td>\n",
       "      <td>0.341667</td>\n",
       "      <td>0.375000</td>\n",
       "      <td>0.141667</td>\n",
       "    </tr>\n",
       "    <tr>\n",
       "      <td>Fighting</td>\n",
       "      <td>0.130435</td>\n",
       "      <td>0.666667</td>\n",
       "      <td>0.130435</td>\n",
       "    </tr>\n",
       "    <tr>\n",
       "      <td>Racing</td>\n",
       "      <td>0.100000</td>\n",
       "      <td>0.900000</td>\n",
       "      <td>0.000000</td>\n",
       "    </tr>\n",
       "    <tr>\n",
       "      <td>Misc</td>\n",
       "      <td>0.227405</td>\n",
       "      <td>0.539359</td>\n",
       "      <td>0.128280</td>\n",
       "    </tr>\n",
       "    <tr>\n",
       "      <td>Platform</td>\n",
       "      <td>0.526316</td>\n",
       "      <td>0.210526</td>\n",
       "      <td>0.105263</td>\n",
       "    </tr>\n",
       "    <tr>\n",
       "      <td>Simulation</td>\n",
       "      <td>0.000000</td>\n",
       "      <td>0.800000</td>\n",
       "      <td>0.200000</td>\n",
       "    </tr>\n",
       "    <tr>\n",
       "      <td>Adventure</td>\n",
       "      <td>0.043668</td>\n",
       "      <td>0.777293</td>\n",
       "      <td>0.126638</td>\n",
       "    </tr>\n",
       "    <tr>\n",
       "      <td>Puzzle</td>\n",
       "      <td>0.166667</td>\n",
       "      <td>0.833333</td>\n",
       "      <td>0.000000</td>\n",
       "    </tr>\n",
       "    <tr>\n",
       "      <td>Strategy</td>\n",
       "      <td>0.000000</td>\n",
       "      <td>1.000000</td>\n",
       "      <td>0.000000</td>\n",
       "    </tr>\n",
       "  </tbody>\n",
       "</table>\n",
       "</div>"
      ],
      "text/plain": [
       "                    eu        jp        na\n",
       "PSV                                       \n",
       "Shooter       0.250000  0.015625  0.500000\n",
       "Action        0.183400  0.655957  0.081660\n",
       "Role-Playing  0.081967  0.768852  0.093443\n",
       "Sports        0.341667  0.375000  0.141667\n",
       "Fighting      0.130435  0.666667  0.130435\n",
       "Racing        0.100000  0.900000  0.000000\n",
       "Misc          0.227405  0.539359  0.128280\n",
       "Platform      0.526316  0.210526  0.105263\n",
       "Simulation    0.000000  0.800000  0.200000\n",
       "Adventure     0.043668  0.777293  0.126638\n",
       "Puzzle        0.166667  0.833333  0.000000\n",
       "Strategy      0.000000  1.000000  0.000000"
      ]
     },
     "metadata": {},
     "output_type": "display_data"
    },
    {
     "name": "stdout",
     "output_type": "stream",
     "text": [
      "\n"
     ]
    }
   ],
   "source": [
    "# название переменых временые\n",
    "for plat in popular_platform :\n",
    "    \n",
    "    qq = \"\"\n",
    "    ff = \"\"\n",
    "    ee = \"\"\n",
    "    \n",
    "    qq = df['genre'].unique()# создаю список с жанрами\n",
    "    ff =  {plat: qq} # создаю название  индеков\n",
    "    ee = pd.DataFrame(ff).set_index(plat) # получаю пустую таблицу с индексами в виде жанров\n",
    "    \n",
    "    popular = df.query('platform == @plat' )# применяю фильтр, чтобы в таблице была одна платформа \n",
    "    popular1 = popular.pivot_table(index='genre', values=['na_sales', 'eu_sales', 'jp_sales', 'all_sales'], aggfunc='sum') \n",
    "    # группирую таблицу, чтобы получить продажи каждого жанра в каждом регионе\n",
    "    ee['eu'] = popular1.apply(sel_eu, axis=1)# Применяю фунцию для того чтобы найти долю продаж в регионе \n",
    "    ee['jp'] = popular1.apply(sel_jp, axis=1)# Применяю фунцию для того чтобы найти долю продаж в регионе \n",
    "    ee['na'] = popular1.apply(sel_na, axis=1)# Применяю фунцию для того чтобы найти долю продаж в регионе \n",
    "    \n",
    "    #display(plat)\n",
    "    display(ee)\n",
    "    print()\n",
    "# И в итоге с Японцами возникают какие-то проблемы поэтому я не понимаю где ошибка\n",
    "\n"
   ]
  },
  {
   "cell_type": "code",
   "execution_count": 35,
   "metadata": {},
   "outputs": [
    {
     "name": "stdout",
     "output_type": "stream",
     "text": [
      "        na_sales\n",
      "rating          \n",
      "E          59.49\n",
      "E10+       33.23\n",
      "M         145.76\n",
      "T          45.58\n"
     ]
    },
    {
     "data": {
      "image/png": "[encoded data removed]",
      "text/plain": [
       "<Figure size 432x288 with 1 Axes>"
      ]
     },
     "metadata": {},
     "output_type": "display_data"
    },
    {
     "name": "stdout",
     "output_type": "stream",
     "text": [
      "        eu_sales\n",
      "rating          \n",
      "E          71.52\n",
      "E10+       26.16\n",
      "M         135.79\n",
      "T          37.21\n"
     ]
    },
    {
     "data": {
      "image/png": "[encoded data removed]",
      "text/plain": [
       "<Figure size 432x288 with 1 Axes>"
      ]
     },
     "metadata": {},
     "output_type": "display_data"
    },
    {
     "name": "stdout",
     "output_type": "stream",
     "text": [
      "        jp_sales\n",
      "rating          \n",
      "E          16.21\n",
      "E10+        4.46\n",
      "M          52.21\n",
      "T          20.21\n"
     ]
    },
    {
     "data": {
      "image/png": "[encoded data removed]",
      "text/plain": [
       "<Figure size 432x288 with 1 Axes>"
      ]
     },
     "metadata": {},
     "output_type": "display_data"
    },
    {
     "name": "stdout",
     "output_type": "stream",
     "text": [
      "        other_sales\n",
      "rating             \n",
      "E             18.87\n",
      "E10+           7.83\n",
      "M             42.51\n",
      "T             12.41\n"
     ]
    },
    {
     "data": {
      "image/png": "[encoded data removed]",
      "text/plain": [
       "<Figure size 432x288 with 1 Axes>"
      ]
     },
     "metadata": {},
     "output_type": "display_data"
    }
   ],
   "source": [
    "region = ['na_sales', 'eu_sales', 'jp_sales', 'other_sales']\n",
    "\n",
    "\n",
    "for reg in region:\n",
    "\n",
    "    sales = df.pivot_table(index='rating', values=reg, aggfunc='sum')\n",
    "    plt.bar(sales.index, sales[reg])\n",
    "    print(sales)\n",
    "    plt.grid(True)\n",
    "    plt.title(reg)\n",
    "    plt.xlabel('categories')\n",
    "    plt.ylabel('sales')\n",
    "    plt.show()\n",
    "    \n"
   ]
  },
  {
   "cell_type": "markdown",
   "metadata": {},
   "source": [
    "В результате было выявлено, что самый популярный рейтинг для всех игр это M"
   ]
  },
  {
   "cell_type": "markdown",
   "metadata": {},
   "source": [
    "<div class=\"alert alert-info\" role=\"alert\">\n",
    "Можно как-то сделать, чтобы эти графики были рядом, для более удобного сравнения? 2 сверху 2 снизу\n",
    "</div>"
   ]
  },
  {
   "cell_type": "markdown",
   "metadata": {},
   "source": []
  },
  {
   "cell_type": "code",
   "execution_count": 36,
   "metadata": {},
   "outputs": [
    {
     "data": {
      "text/plain": [
       "<matplotlib.axes._subplots.AxesSubplot at 0x7f8966e269d0>"
      ]
     },
     "execution_count": 36,
     "metadata": {},
     "output_type": "execute_result"
    },
    {
     "data": {
      "image/png": "[encoded data removed]",
      "text/plain": [
       "<Figure size 432x288 with 1 Axes>"
      ]
     },
     "metadata": {},
     "output_type": "display_data"
    }
   ],
   "source": []
  },
  {
   "cell_type": "code",
   "execution_count": 37,
   "metadata": {},
   "outputs": [
    {
     "data": {
      "text/html": [
       "<div>\n",
       "<style scoped>\n",
       "    .dataframe tbody tr th:only-of-type {\n",
       "        vertical-align: middle;\n",
       "    }\n",
       "\n",
       "    .dataframe tbody tr th {\n",
       "        vertical-align: top;\n",
       "    }\n",
       "\n",
       "    .dataframe thead th {\n",
       "        text-align: right;\n",
       "    }\n",
       "</style>\n",
       "<table border=\"1\" class=\"dataframe\">\n",
       "  <thead>\n",
       "    <tr style=\"text-align: right;\">\n",
       "      <th></th>\n",
       "      <th>all_sales</th>\n",
       "    </tr>\n",
       "    <tr>\n",
       "      <th>genre</th>\n",
       "      <th></th>\n",
       "    </tr>\n",
       "  </thead>\n",
       "  <tbody>\n",
       "    <tr>\n",
       "      <td>Action</td>\n",
       "      <td>199.36</td>\n",
       "    </tr>\n",
       "    <tr>\n",
       "      <td>Shooter</td>\n",
       "      <td>170.94</td>\n",
       "    </tr>\n",
       "    <tr>\n",
       "      <td>Sports</td>\n",
       "      <td>109.48</td>\n",
       "    </tr>\n",
       "    <tr>\n",
       "      <td>Role-Playing</td>\n",
       "      <td>101.44</td>\n",
       "    </tr>\n",
       "    <tr>\n",
       "      <td>Misc</td>\n",
       "      <td>37.55</td>\n",
       "    </tr>\n",
       "  </tbody>\n",
       "</table>\n",
       "</div>"
      ],
      "text/plain": [
       "              all_sales\n",
       "genre                  \n",
       "Action           199.36\n",
       "Shooter          170.94\n",
       "Sports           109.48\n",
       "Role-Playing     101.44\n",
       "Misc              37.55"
      ]
     },
     "execution_count": 37,
     "metadata": {},
     "output_type": "execute_result"
    }
   ],
   "source": [
    "df_genre.sort_values(by='all_sales', ascending=False).head(5)"
   ]
  },
  {
   "cell_type": "markdown",
   "metadata": {},
   "source": [
    "Топ 5 самых продаваемых жанров:\n",
    "<li>Action:\t169.78</li>\n",
    "<li>Shooter: 166.07</li>\n",
    "<li>Sports:\t106.22</li>\n",
    "<li>Role-Playing: 70.28</li>\n",
    "<li>Misc: 31.94</li>"
   ]
  },
  {
   "cell_type": "code",
   "execution_count": 38,
   "metadata": {},
   "outputs": [
    {
     "data": {
      "text/html": [
       "<div>\n",
       "<style scoped>\n",
       "    .dataframe tbody tr th:only-of-type {\n",
       "        vertical-align: middle;\n",
       "    }\n",
       "\n",
       "    .dataframe tbody tr th {\n",
       "        vertical-align: top;\n",
       "    }\n",
       "\n",
       "    .dataframe thead th {\n",
       "        text-align: right;\n",
       "    }\n",
       "</style>\n",
       "<table border=\"1\" class=\"dataframe\">\n",
       "  <thead>\n",
       "    <tr style=\"text-align: right;\">\n",
       "      <th></th>\n",
       "      <th>name</th>\n",
       "      <th>platform</th>\n",
       "      <th>year_of_release</th>\n",
       "      <th>genre</th>\n",
       "      <th>na_sales</th>\n",
       "      <th>eu_sales</th>\n",
       "      <th>jp_sales</th>\n",
       "      <th>other_sales</th>\n",
       "      <th>critic_score</th>\n",
       "      <th>user_score</th>\n",
       "      <th>rating</th>\n",
       "      <th>all_sales</th>\n",
       "    </tr>\n",
       "  </thead>\n",
       "  <tbody>\n",
       "    <tr>\n",
       "      <td>0</td>\n",
       "      <td>Call of Duty: Black Ops 3</td>\n",
       "      <td>PS4</td>\n",
       "      <td>2015</td>\n",
       "      <td>Shooter</td>\n",
       "      <td>6.03</td>\n",
       "      <td>5.86</td>\n",
       "      <td>0.36</td>\n",
       "      <td>2.38</td>\n",
       "      <td>NaN</td>\n",
       "      <td>NaN</td>\n",
       "      <td>M</td>\n",
       "      <td>14.63</td>\n",
       "    </tr>\n",
       "    <tr>\n",
       "      <td>1</td>\n",
       "      <td>Grand Theft Auto V</td>\n",
       "      <td>PS4</td>\n",
       "      <td>2014</td>\n",
       "      <td>Action</td>\n",
       "      <td>3.96</td>\n",
       "      <td>6.31</td>\n",
       "      <td>0.38</td>\n",
       "      <td>1.97</td>\n",
       "      <td>97.0</td>\n",
       "      <td>8.3</td>\n",
       "      <td>M</td>\n",
       "      <td>12.62</td>\n",
       "    </tr>\n",
       "    <tr>\n",
       "      <td>2</td>\n",
       "      <td>Pokemon Omega Ruby/Pokemon Alpha Sapphire</td>\n",
       "      <td>3DS</td>\n",
       "      <td>2014</td>\n",
       "      <td>Role-Playing</td>\n",
       "      <td>4.35</td>\n",
       "      <td>3.49</td>\n",
       "      <td>3.10</td>\n",
       "      <td>0.74</td>\n",
       "      <td>NaN</td>\n",
       "      <td>NaN</td>\n",
       "      <td>M</td>\n",
       "      <td>11.68</td>\n",
       "    </tr>\n",
       "    <tr>\n",
       "      <td>3</td>\n",
       "      <td>FIFA 16</td>\n",
       "      <td>PS4</td>\n",
       "      <td>2015</td>\n",
       "      <td>Sports</td>\n",
       "      <td>1.12</td>\n",
       "      <td>6.12</td>\n",
       "      <td>0.06</td>\n",
       "      <td>1.28</td>\n",
       "      <td>82.0</td>\n",
       "      <td>4.3</td>\n",
       "      <td>E</td>\n",
       "      <td>8.58</td>\n",
       "    </tr>\n",
       "    <tr>\n",
       "      <td>4</td>\n",
       "      <td>Star Wars Battlefront (2015)</td>\n",
       "      <td>PS4</td>\n",
       "      <td>2015</td>\n",
       "      <td>Shooter</td>\n",
       "      <td>2.99</td>\n",
       "      <td>3.49</td>\n",
       "      <td>0.22</td>\n",
       "      <td>1.28</td>\n",
       "      <td>NaN</td>\n",
       "      <td>NaN</td>\n",
       "      <td>M</td>\n",
       "      <td>7.98</td>\n",
       "    </tr>\n",
       "    <tr>\n",
       "      <td>...</td>\n",
       "      <td>...</td>\n",
       "      <td>...</td>\n",
       "      <td>...</td>\n",
       "      <td>...</td>\n",
       "      <td>...</td>\n",
       "      <td>...</td>\n",
       "      <td>...</td>\n",
       "      <td>...</td>\n",
       "      <td>...</td>\n",
       "      <td>...</td>\n",
       "      <td>...</td>\n",
       "      <td>...</td>\n",
       "    </tr>\n",
       "    <tr>\n",
       "      <td>1684</td>\n",
       "      <td>Strawberry Nauts</td>\n",
       "      <td>PSV</td>\n",
       "      <td>2016</td>\n",
       "      <td>Adventure</td>\n",
       "      <td>0.00</td>\n",
       "      <td>0.00</td>\n",
       "      <td>0.01</td>\n",
       "      <td>0.00</td>\n",
       "      <td>NaN</td>\n",
       "      <td>NaN</td>\n",
       "      <td>M</td>\n",
       "      <td>0.01</td>\n",
       "    </tr>\n",
       "    <tr>\n",
       "      <td>1685</td>\n",
       "      <td>Aiyoku no Eustia</td>\n",
       "      <td>PSV</td>\n",
       "      <td>2014</td>\n",
       "      <td>Misc</td>\n",
       "      <td>0.00</td>\n",
       "      <td>0.00</td>\n",
       "      <td>0.01</td>\n",
       "      <td>0.00</td>\n",
       "      <td>NaN</td>\n",
       "      <td>NaN</td>\n",
       "      <td>E</td>\n",
       "      <td>0.01</td>\n",
       "    </tr>\n",
       "    <tr>\n",
       "      <td>1686</td>\n",
       "      <td>Samurai Warriors: Sanada Maru</td>\n",
       "      <td>PS3</td>\n",
       "      <td>2016</td>\n",
       "      <td>Action</td>\n",
       "      <td>0.00</td>\n",
       "      <td>0.00</td>\n",
       "      <td>0.01</td>\n",
       "      <td>0.00</td>\n",
       "      <td>NaN</td>\n",
       "      <td>NaN</td>\n",
       "      <td>M</td>\n",
       "      <td>0.01</td>\n",
       "    </tr>\n",
       "    <tr>\n",
       "      <td>1687</td>\n",
       "      <td>Haitaka no Psychedelica</td>\n",
       "      <td>PSV</td>\n",
       "      <td>2016</td>\n",
       "      <td>Adventure</td>\n",
       "      <td>0.00</td>\n",
       "      <td>0.00</td>\n",
       "      <td>0.01</td>\n",
       "      <td>0.00</td>\n",
       "      <td>NaN</td>\n",
       "      <td>NaN</td>\n",
       "      <td>M</td>\n",
       "      <td>0.01</td>\n",
       "    </tr>\n",
       "    <tr>\n",
       "      <td>1688</td>\n",
       "      <td>Winning Post 8 2016</td>\n",
       "      <td>PSV</td>\n",
       "      <td>2016</td>\n",
       "      <td>Simulation</td>\n",
       "      <td>0.00</td>\n",
       "      <td>0.00</td>\n",
       "      <td>0.01</td>\n",
       "      <td>0.00</td>\n",
       "      <td>NaN</td>\n",
       "      <td>NaN</td>\n",
       "      <td>E</td>\n",
       "      <td>0.01</td>\n",
       "    </tr>\n",
       "  </tbody>\n",
       "</table>\n",
       "<p>1689 rows × 12 columns</p>\n",
       "</div>"
      ],
      "text/plain": [
       "                                           name platform  year_of_release  \\\n",
       "0                     Call of Duty: Black Ops 3      PS4             2015   \n",
       "1                            Grand Theft Auto V      PS4             2014   \n",
       "2     Pokemon Omega Ruby/Pokemon Alpha Sapphire      3DS             2014   \n",
       "3                                       FIFA 16      PS4             2015   \n",
       "4                  Star Wars Battlefront (2015)      PS4             2015   \n",
       "...                                         ...      ...              ...   \n",
       "1684                           Strawberry Nauts      PSV             2016   \n",
       "1685                           Aiyoku no Eustia      PSV             2014   \n",
       "1686              Samurai Warriors: Sanada Maru      PS3             2016   \n",
       "1687                    Haitaka no Psychedelica      PSV             2016   \n",
       "1688                        Winning Post 8 2016      PSV             2016   \n",
       "\n",
       "             genre  na_sales  eu_sales  jp_sales  other_sales  critic_score  \\\n",
       "0          Shooter      6.03      5.86      0.36         2.38           NaN   \n",
       "1           Action      3.96      6.31      0.38         1.97          97.0   \n",
       "2     Role-Playing      4.35      3.49      3.10         0.74           NaN   \n",
       "3           Sports      1.12      6.12      0.06         1.28          82.0   \n",
       "4          Shooter      2.99      3.49      0.22         1.28           NaN   \n",
       "...            ...       ...       ...       ...          ...           ...   \n",
       "1684     Adventure      0.00      0.00      0.01         0.00           NaN   \n",
       "1685          Misc      0.00      0.00      0.01         0.00           NaN   \n",
       "1686        Action      0.00      0.00      0.01         0.00           NaN   \n",
       "1687     Adventure      0.00      0.00      0.01         0.00           NaN   \n",
       "1688    Simulation      0.00      0.00      0.01         0.00           NaN   \n",
       "\n",
       "      user_score rating  all_sales  \n",
       "0            NaN      M      14.63  \n",
       "1            8.3      M      12.62  \n",
       "2            NaN      M      11.68  \n",
       "3            4.3      E       8.58  \n",
       "4            NaN      M       7.98  \n",
       "...          ...    ...        ...  \n",
       "1684         NaN      M       0.01  \n",
       "1685         NaN      E       0.01  \n",
       "1686         NaN      M       0.01  \n",
       "1687         NaN      M       0.01  \n",
       "1688         NaN      E       0.01  \n",
       "\n",
       "[1689 rows x 12 columns]"
      ]
     },
     "execution_count": 38,
     "metadata": {},
     "output_type": "execute_result"
    }
   ],
   "source": [
    "df"
   ]
  },
  {
   "cell_type": "code",
   "execution_count": 39,
   "metadata": {},
   "outputs": [
    {
     "data": {
      "text/html": [
       "<div>\n",
       "<style scoped>\n",
       "    .dataframe tbody tr th:only-of-type {\n",
       "        vertical-align: middle;\n",
       "    }\n",
       "\n",
       "    .dataframe tbody tr th {\n",
       "        vertical-align: top;\n",
       "    }\n",
       "\n",
       "    .dataframe thead th {\n",
       "        text-align: right;\n",
       "    }\n",
       "</style>\n",
       "<table border=\"1\" class=\"dataframe\">\n",
       "  <thead>\n",
       "    <tr style=\"text-align: right;\">\n",
       "      <th></th>\n",
       "      <th>all_sales</th>\n",
       "      <th>eu_sales</th>\n",
       "      <th>jp_sales</th>\n",
       "      <th>na_sales</th>\n",
       "    </tr>\n",
       "    <tr>\n",
       "      <th>rating</th>\n",
       "      <th></th>\n",
       "      <th></th>\n",
       "      <th></th>\n",
       "      <th></th>\n",
       "    </tr>\n",
       "  </thead>\n",
       "  <tbody>\n",
       "    <tr>\n",
       "      <td>E</td>\n",
       "      <td>166.09</td>\n",
       "      <td>71.52</td>\n",
       "      <td>16.21</td>\n",
       "      <td>59.49</td>\n",
       "    </tr>\n",
       "    <tr>\n",
       "      <td>E10+</td>\n",
       "      <td>71.68</td>\n",
       "      <td>26.16</td>\n",
       "      <td>4.46</td>\n",
       "      <td>33.23</td>\n",
       "    </tr>\n",
       "    <tr>\n",
       "      <td>M</td>\n",
       "      <td>376.27</td>\n",
       "      <td>135.79</td>\n",
       "      <td>52.21</td>\n",
       "      <td>145.76</td>\n",
       "    </tr>\n",
       "    <tr>\n",
       "      <td>T</td>\n",
       "      <td>115.41</td>\n",
       "      <td>37.21</td>\n",
       "      <td>20.21</td>\n",
       "      <td>45.58</td>\n",
       "    </tr>\n",
       "  </tbody>\n",
       "</table>\n",
       "</div>"
      ],
      "text/plain": [
       "        all_sales  eu_sales  jp_sales  na_sales\n",
       "rating                                         \n",
       "E          166.09     71.52     16.21     59.49\n",
       "E10+        71.68     26.16      4.46     33.23\n",
       "M          376.27    135.79     52.21    145.76\n",
       "T          115.41     37.21     20.21     45.58"
      ]
     },
     "execution_count": 39,
     "metadata": {},
     "output_type": "execute_result"
    }
   ],
   "source": [
    "ESRB = df.pivot_table(index='rating', values=['na_sales','eu_sales','jp_sales', 'all_sales'], aggfunc='sum')\n",
    "ESRB"
   ]
  },
  {
   "cell_type": "code",
   "execution_count": 40,
   "metadata": {},
   "outputs": [],
   "source": [
    "ff1 =  {'values': ['E','E10+','M', 'T']}\n",
    "ee1 = pd.DataFrame(ff1).set_index('values')"
   ]
  },
  {
   "cell_type": "code",
   "execution_count": 41,
   "metadata": {},
   "outputs": [],
   "source": [
    "ee1['eu'] = ESRB.apply(sel_eu, axis=1)\n",
    "ee1['jp'] = ESRB.apply(sel_jp, axis=1)\n",
    "ee1['na'] = ESRB.apply(sel_na, axis=1)"
   ]
  },
  {
   "cell_type": "markdown",
   "metadata": {},
   "source": [
    "\n",
    "Доли продаж для каждого рейтинга в регионах :<br>\n",
    "Для Японии:<br>\n",
    "<li>E: 16.21 </li>\n",
    "<li>E10+: 4.46</li>\n",
    "<li>M: 52.21</li>\n",
    "<li>T: 20.21</li>\n",
    "Для Европы:<br>\n",
    "<li>E: 71.52</li>\n",
    "<li>E10+: 26.16\t</li>\n",
    "<li>M: 135.79</li>\n",
    "<li>T: 37.21</li>\n",
    "Для Северной Америки:\n",
    "<li>E: 59.49</li>\n",
    "<li>E10+: 33.23\t</li>\n",
    "<li>M: 145.76</li>\n",
    "<li>T: 45.58</li>"
   ]
  },
  {
   "cell_type": "code",
   "execution_count": 42,
   "metadata": {},
   "outputs": [
    {
     "data": {
      "text/html": [
       "<div>\n",
       "<style scoped>\n",
       "    .dataframe tbody tr th:only-of-type {\n",
       "        vertical-align: middle;\n",
       "    }\n",
       "\n",
       "    .dataframe tbody tr th {\n",
       "        vertical-align: top;\n",
       "    }\n",
       "\n",
       "    .dataframe thead th {\n",
       "        text-align: right;\n",
       "    }\n",
       "</style>\n",
       "<table border=\"1\" class=\"dataframe\">\n",
       "  <thead>\n",
       "    <tr style=\"text-align: right;\">\n",
       "      <th></th>\n",
       "      <th>eu</th>\n",
       "      <th>jp</th>\n",
       "      <th>na</th>\n",
       "    </tr>\n",
       "    <tr>\n",
       "      <th>values</th>\n",
       "      <th></th>\n",
       "      <th></th>\n",
       "      <th></th>\n",
       "    </tr>\n",
       "  </thead>\n",
       "  <tbody>\n",
       "    <tr>\n",
       "      <td>E</td>\n",
       "      <td>0.430610</td>\n",
       "      <td>0.097598</td>\n",
       "      <td>0.358179</td>\n",
       "    </tr>\n",
       "    <tr>\n",
       "      <td>E10+</td>\n",
       "      <td>0.364955</td>\n",
       "      <td>0.062221</td>\n",
       "      <td>0.463588</td>\n",
       "    </tr>\n",
       "    <tr>\n",
       "      <td>M</td>\n",
       "      <td>0.360884</td>\n",
       "      <td>0.138757</td>\n",
       "      <td>0.387381</td>\n",
       "    </tr>\n",
       "    <tr>\n",
       "      <td>T</td>\n",
       "      <td>0.322416</td>\n",
       "      <td>0.175115</td>\n",
       "      <td>0.394940</td>\n",
       "    </tr>\n",
       "  </tbody>\n",
       "</table>\n",
       "</div>"
      ],
      "text/plain": [
       "              eu        jp        na\n",
       "values                              \n",
       "E       0.430610  0.097598  0.358179\n",
       "E10+    0.364955  0.062221  0.463588\n",
       "M       0.360884  0.138757  0.387381\n",
       "T       0.322416  0.175115  0.394940"
      ]
     },
     "execution_count": 42,
     "metadata": {},
     "output_type": "execute_result"
    }
   ],
   "source": [
    "ee1"
   ]
  },
  {
   "cell_type": "markdown",
   "metadata": {},
   "source": [
    "По данным мы можем увидить:\n",
    "<li>В Европе E10+,M,T имеют почти одинаковую долю продаж около 35 %, a рейтинг Е имеет 43%</li>\n",
    "<li>В Японии самый не популярный рейтинг E10+ он занимает 6%, самый популярный Т-17%</li>\n",
    "<li>В Амереки самый не популярный E-35%, остальные около 40%</li>\n",
    "\n",
    "\n"
   ]
  },
  {
   "cell_type": "markdown",
   "metadata": {},
   "source": [
    "<h1>Шаг 5. Проверьте гипотезы</h1>"
   ]
  },
  {
   "cell_type": "markdown",
   "metadata": {},
   "source": [
    "Формируем нулевую гипотезу: cредние пользовательские рейтинги платформ Xbox One и PC одинаковые<br>\n",
    "Альтренативная гипотиза : рейтиги не равны"
   ]
  },
  {
   "cell_type": "code",
   "execution_count": 43,
   "metadata": {},
   "outputs": [],
   "source": [
    "pc = df.query('platform == \"PC\"')\n",
    "xbox = df.query('platform == \"XOne\"')\n",
    "\n",
    "pc['user_score'].fillna(-1)\n",
    "pc = pc.query('user_score > 0')\n",
    "\n",
    "xbox['user_score'].fillna(-1)\n",
    "xbox = xbox.query('user_score > 0')\n",
    "\n"
   ]
  },
  {
   "cell_type": "code",
   "execution_count": 44,
   "metadata": {},
   "outputs": [
    {
     "name": "stdout",
     "output_type": "stream",
     "text": [
      "Дисперсия игр PC 2.901154315133451\n",
      "Дисперсия игр XOne 1.8910066518847013\n"
     ]
    }
   ],
   "source": [
    "print(f\"Дисперсия игр PC {np.var(pc['user_score'], ddof=1)}\")\n",
    "print(f\"Дисперсия игр XOne {np.var(xbox['user_score'], ddof=1)}\")"
   ]
  },
  {
   "cell_type": "code",
   "execution_count": 45,
   "metadata": {},
   "outputs": [
    {
     "name": "stdout",
     "output_type": "stream",
     "text": [
      "p-значение: 0.10450507919348415\n",
      "Не получилось отвергнуть нулевую гипотезу\n"
     ]
    }
   ],
   "source": [
    "alpha = .05\n",
    "\n",
    "results = st.stats.ttest_ind(pc['user_score'], xbox['user_score'], equal_var=True)\n",
    "\n",
    "print('p-значение:', results.pvalue)\n",
    "\n",
    "if (results.pvalue < alpha):\n",
    "    \n",
    "    print(\"Отвергаем нулевую гипотезу\")\n",
    "else:\n",
    "    print(\"Не получилось отвергнуть нулевую гипотезу\")\n",
    "\n",
    "\n"
   ]
  },
  {
   "cell_type": "code",
   "execution_count": 46,
   "metadata": {},
   "outputs": [
    {
     "data": {
      "image/png": "[encoded data removed]",
      "text/plain": [
       "<Figure size 1080x432 with 2 Axes>"
      ]
     },
     "metadata": {},
     "output_type": "display_data"
    }
   ],
   "source": [
    "plt.subplot(1, 2, 1)\n",
    "plt.title('PC')\n",
    "sns.distplot(pc['user_score'])\n",
    "sns.set_style(\"darkgrid\", {'axes.grid' : True})\n",
    "plt.ylabel('density')\n",
    "plt.xlabel('store')\n",
    "plt.subplot(1, 2, 2)\n",
    "plt.title('Xbox One')\n",
    "sns.distplot(xbox['user_score'])\n",
    "sns.set_style(\"darkgrid\", {'axes.grid' : True})\n",
    "plt.ylabel('density')\n",
    "plt.xlabel('store')\n",
    "plt.gcf().set_size_inches(15, 6)"
   ]
  },
  {
   "cell_type": "markdown",
   "metadata": {},
   "source": [
    "Изходя из графиков оценок на PC и Xbox One можно сказать:\n",
    "<li>Они имеею общее распредение оценок от 5 до 8</li>\n",
    "<li>Графики почти одинаковые, но имееют расхождения, думаю,что связанно это с эксклюзивами</li>"
   ]
  },
  {
   "cell_type": "markdown",
   "metadata": {},
   "source": [
    "Формируем нулевую гипотезу: cредние пользовательские рейтинги жанров Action  и Sports  равны<br>\n",
    "Альтренативная гипотиза : рейтиги не равны"
   ]
  },
  {
   "cell_type": "code",
   "execution_count": 47,
   "metadata": {},
   "outputs": [],
   "source": [
    "Action = df.query('genre == \"Action\"')\n",
    "Sports = df.query('genre == \"Sports\"')\n",
    "\n",
    "Action['user_score'].fillna(-1)\n",
    "Action = Action.query('user_score > 0')\n",
    "\n",
    "Sports['user_score'].fillna(-1)\n",
    "Sports = Sports.query('user_score > 0')\n",
    "\n"
   ]
  },
  {
   "cell_type": "code",
   "execution_count": 48,
   "metadata": {},
   "outputs": [
    {
     "name": "stdout",
     "output_type": "stream",
     "text": [
      "Дисперсия игр Action 1.8984766584766581\n",
      "Дисперсия игр Sports 3.446979127609048\n"
     ]
    }
   ],
   "source": [
    "print(f\"Дисперсия игр Action {np.var(Action['user_score'], ddof=1)}\")\n",
    "print(f\"Дисперсия игр Sports {np.var(Sports['user_score'], ddof=1)}\")"
   ]
  },
  {
   "cell_type": "code",
   "execution_count": 49,
   "metadata": {},
   "outputs": [
    {
     "name": "stdout",
     "output_type": "stream",
     "text": [
      "p-значение: 2.8711147985105864e-19\n",
      "Отвергаем нулевую гипотезу\n"
     ]
    }
   ],
   "source": [
    "alpha = .05\n",
    "\n",
    "results = st.stats.ttest_ind(Action['user_score'], Sports['user_score'], equal_var=True)\n",
    "\n",
    "print('p-значение:', results.pvalue)\n",
    "\n",
    "if (results.pvalue < alpha):\n",
    "    \n",
    "    print(\"Отвергаем нулевую гипотезу\")\n",
    "else:\n",
    "    print(\"Не получилось отвергнуть нулевую гипотезу\")\n",
    "\n",
    "\n"
   ]
  },
  {
   "cell_type": "code",
   "execution_count": 50,
   "metadata": {},
   "outputs": [
    {
     "data": {
      "image/png": "[encoded data removed]",
      "text/plain": [
       "<Figure size 1080x432 with 2 Axes>"
      ]
     },
     "metadata": {},
     "output_type": "display_data"
    }
   ],
   "source": [
    "plt.subplot(1, 2, 1)\n",
    "plt.title('Action')\n",
    "sns.distplot(Action['user_score'])\n",
    "plt.ylabel('density')\n",
    "plt.xlabel('store')\n",
    "sns.set_style(\"darkgrid\", {'axes.grid' : True})\n",
    "plt.subplot(1, 2, 2)\n",
    "plt.title('Sports')\n",
    "sns.distplot(Sports['user_score'])\n",
    "sns.set_style(\"darkgrid\", {'axes.grid' : True})\n",
    "plt.ylabel('density')\n",
    "plt.xlabel('store')\n",
    "plt.gcf().set_size_inches(15, 6)"
   ]
  },
  {
   "cell_type": "markdown",
   "metadata": {},
   "source": [
    "Изходя из графиков оценок на Sports и Action можно сказать:\n",
    "<li>Они имеею общее распредение оценок от 5 до 7</li>\n",
    "<li>Action имеет два пика в 7 и 10</li>\n",
    "<li>Sports имеет пик в 7</li>\n",
    "\n",
    "\n",
    "\n"
   ]
  },
  {
   "cell_type": "markdown",
   "metadata": {},
   "source": [
    "<h1>Вывод</h1>"
   ]
  },
  {
   "cell_type": "markdown",
   "metadata": {
    "pycharm": {
     "name": "#%% md\n"
    }
   },
   "source": [
    "В результате для платформ быдо обнаруженно: <br>\n",
    "<li>Wii утратила свою популярноть после 2009(более 300 игр). К 2016 году ее игр потчи равны 0</li>\n",
    "<li>DS перестала быть попуряной после 2009(почти 500 игр). В 2014 0 игр </li>\n",
    "<li>X360 перестала быть попуряной после 2013(75 игр). К 2016 около 15 игр</li>\n",
    "<li>PS3 все еще актуальна, но кол-во игр начало падать посде 2013</li>\n",
    "<li>PS2 не актальная платформа</li>\n",
    "<li>GBA не актальная платформа</li>\n",
    "<li>PS4 попульрная платформа кол-во игр растет с 2013</li>\n",
    "<li>3DS актуальная платформа с 2012-2015 примерно одинаковое кол-во игр. В 2016 резкое падение по кол-ву игр в 2 раза меньше</li>\n",
    "<li>XB не актальная платформа</li>\n",
    "<li>PC актуальная платформа</li>\n",
    "<li>PSP не актуальная платформа</li>\n",
    "<li>XOne попульрная платформа кол-во игр растет с 2013</li>\n",
    "<li>WiiU актуальная платформа но кол-во игр в 2016 по сравнению с 2015 упало в 2</li>\n",
    "<li>GC не актальная платформа</li>\n",
    "<li>PS не актальная платформа</li>\n",
    "<li>PSV актальная платформа</li>\n",
    "<li>N64 не актальная платформа</li><br>\n",
    "\n",
    "Сумарное кол-во игр с 2014 года:\n",
    "<li>XOne: 228</li>\n",
    "<li>PSV: 295</li>\n",
    "<li>PC: 151</li>\n",
    "<li>WiiU: 73</li>\n",
    "<li>PS4: 376</li>\n",
    "\n",
    "\n",
    "Поститав корреляцию отзывово и колтчествам продаж:\n",
    "<li>Кореляция между оценкой критиков и продажами: 0.17</li>\n",
    "<li>Кореляция между оценкой игроков и продажами: -0.09</li>\n",
    "\n",
    "Делаем вывод, что прямой завсимости между продажами и оценкой нет<br>\n",
    "По диаграме рассеяния же видно, что игры с более высокой оценкой имеют больше продаж <br>\n",
    "\n",
    "Самые популярные жанры:\n",
    "<li>Action: 169.78 млн продаж</li>\n",
    "<li>Shooter: 166.07 млн продаж</li>\n",
    "<li>Sports: 106.22 млн продаж</li>\n",
    "\n",
    "Самые не  популярные жанры:\n",
    "<li>Puzzle: 1.28 млн продаж</li>\n",
    "<li>Strategy: 3.01 млн продаж</li>\n",
    "<li>Simulation: 10.82 млн продаж</li>\n",
    "\n",
    "\n",
    "В результате было выявлено, что самый популярный рейтинг для всех игр это M<br>\n",
    "\n",
    "Топ 5 самых продаваемых жанров:\n",
    "<li>Action:\t169.78</li>\n",
    "<li>Shooter: 166.07</li>\n",
    "<li>Sports:\t106.22</li>\n",
    "<li>Role-Playing: 70.28</li>\n",
    "<li>Misc: 31.94</li>\n",
    "\n",
    "\n",
    "Доли продаж для каждого рейтинга в регионах :<br>\n",
    "Для Японии:<br>\n",
    "<li>E: 16.21 </li>\n",
    "<li>E10+: 4.46</li>\n",
    "<li>M: 52.21</li>\n",
    "<li>T: 20.21</li>\n",
    "Для Европы:<br>\n",
    "<li>E: 71.52</li>\n",
    "<li>E10+: 26.16\t</li>\n",
    "<li>M: 135.79</li>\n",
    "<li>T: 37.21</li>\n",
    "Для Северной Америки:\n",
    "<li>E: 59.49</li>\n",
    "<li>E10+: 33.23\t</li>\n",
    "<li>M: 145.76</li>\n",
    "<li>T: 45.58</li>\n",
    "\n",
    "По данным мы можем увидить:\n",
    "<li>В Европе E10+,M,T имеют почти одинаковую долю продаж около 40 %, a рейтинг Е имеет 47%</li>\n",
    "<li>В Японии самый не популярный рейтинг E10+ он занимает 6%, самый популярный Т-21%</li>\n",
    "<li>В Амереки самый не популярный E-39%, остальные около 48%</li>\n",
    "\n",
    "\n",
    "Изходя из графиков оценок на Sports и Action можно сказать:\n",
    "<li>Они имеею общее распредение оценок от 5 до 7</li>\n",
    "<li>Action имеет два пика в 7 и 10</li>\n",
    "<li>Sports имеет пик в 7</li>\n",
    "\n",
    "Изходя из графиков оценок на PC и Xbox One можно сказать:\n",
    "<li>Они имеею общее распредение оценок от 5 до 8</li>\n",
    "<li>Графики почти одинаковые, но имееют расхождения, думаю,что связанно это с эксклюзивами</li>\n",
    "\n",
    "\n",
    "\n",
    "\n",
    "\n",
    "\n"
   ]
  }
 ],
 "metadata": {
  "kernelspec": {
   "display_name": "Python 3",
   "language": "python",
   "name": "python3"
  },
  "language_info": {
   "codemirror_mode": {
    "name": "ipython",
    "version": 3
   },
   "file_extension": ".py",
   "mimetype": "text/x-python",
   "name": "python",
   "nbconvert_exporter": "python",
   "pygments_lexer": "ipython3",
   "version": "3.7.8"
  },
  "toc": {
   "base_numbering": 1,
   "nav_menu": {},
   "number_sections": true,
   "sideBar": true,
   "skip_h1_title": false,
   "title_cell": "Table of Contents",
   "title_sidebar": "Contents",
   "toc_cell": false,
   "toc_position": {},
   "toc_section_display": true,
   "toc_window_display": false
  },
  "pycharm": {
   "stem_cell": {
    "cell_type": "raw",
    "source": [
     "\n"
    ],
    "metadata": {
     "collapsed": false
    }
   }
  }
 },
 "nbformat": 4,
 "nbformat_minor": 2
}